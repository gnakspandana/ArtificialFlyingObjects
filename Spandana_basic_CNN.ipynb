{
  "cells": [
    {
      "cell_type": "markdown",
      "metadata": {
        "id": "view-in-github",
        "colab_type": "text"
      },
      "source": [
        "<a href=\"https://colab.research.google.com/github/gnakspandana/ArtificialFlyingObjects/blob/master/Spandana_basic_CNN.ipynb\" target=\"_parent\"><img src=\"https://colab.research.google.com/assets/colab-badge.svg\" alt=\"Open In Colab\"/></a>"
      ]
    },
    {
      "cell_type": "markdown",
      "metadata": {
        "id": "nAUA6cvb_CNY"
      },
      "source": [
        "# 5TF078 Deep Learning Course *and maybe 5EL272 Systems and algorithms for Autonomous Vehicles*\n",
        "## Excercise 1 Convolutional Neural Networks on Fashion-MNIST\n",
        "Created by Tomas Nordström, Umeå University\n",
        "\n",
        "Revisions:\n",
        "* 2022-03-23 First revision based on earlier excercises /Tomas\n",
        "* ...\n",
        "* 2024-03-24 - Updated tests for Kaggle. /Tomas\n",
        "* 2024-10-02 - Translated to English"
      ]
    },
    {
      "cell_type": "markdown",
      "metadata": {
        "id": "IAWshxTD0Sd8"
      },
      "source": [
        "[link text](https://)## **Spandana Akumalla**"
      ]
    },
    {
      "cell_type": "markdown",
      "metadata": {
        "id": "r-tp9iDDCpsz"
      },
      "source": [
        "# First we initilize our Python environment"
      ]
    },
    {
      "cell_type": "code",
      "execution_count": 1,
      "metadata": {
        "colab": {
          "base_uri": "https://localhost:8080/"
        },
        "id": "F1pcr2Em_Lzo",
        "outputId": "1c852d1e-d650-4b58-bf89-fd3004e1b004"
      },
      "outputs": [
        {
          "output_type": "stream",
          "name": "stdout",
          "text": [
            "TensorFlow version: 2.17.1\n",
            "Keras version: 3.5.0\n"
          ]
        }
      ],
      "source": [
        "# Import needed libraries\n",
        "import tensorflow as tf\n",
        "print('TensorFlow version:', tf.__version__)\n",
        "\n",
        "import keras\n",
        "print('Keras version:', keras.__version__)\n",
        "\n",
        "from keras.models import Sequential\n",
        "from keras.layers import Dense, Flatten, Conv2D\n",
        "from keras.utils  import to_categorical\n",
        "\n",
        "# Helper libraries\n",
        "import numpy as np\n",
        "import sklearn\n",
        "from   sklearn.model_selection import train_test_split\n",
        "\n",
        "# Matlab plotting\n",
        "import matplotlib\n",
        "import matplotlib.pyplot as plt"
      ]
    },
    {
      "cell_type": "code",
      "execution_count": 2,
      "metadata": {
        "id": "lVYuWJAls8hZ"
      },
      "outputs": [],
      "source": [
        "import sys\n",
        "\n",
        "### Is this notebook running on Colab?\n",
        "IS_COLAB = \"google.colab\" in sys.modules\n",
        "\n",
        "### Is this notebook running on Kaggle?\n",
        "# Fool Kaggle into making kaggle_secrets avaiable\n",
        "try:\n",
        "    import kaggle_secrets\n",
        "except ImportError as e:\n",
        "    pass\n",
        "# Now we can test for Kaggle\n",
        "IS_KAGGLE = \"kaggle_secrets\" in sys.modules"
      ]
    },
    {
      "cell_type": "code",
      "execution_count": 3,
      "metadata": {
        "colab": {
          "base_uri": "https://localhost:8080/"
        },
        "id": "Uf0ZWo9JyEhS",
        "outputId": "69b8c074-29b9-4516-da30-a3ce936aacbf"
      },
      "outputs": [
        {
          "output_type": "stream",
          "name": "stdout",
          "text": [
            "GPU 0: Tesla T4 (UUID: GPU-c7300d5b-94f8-6bec-914d-dd6560175d07)\n"
          ]
        }
      ],
      "source": [
        "# Test for GPU and determine what GPU we have\n",
        "import sys\n",
        "if not tf.config.list_physical_devices('GPU'):\n",
        "     print(\"No GPU was detected. CNNs can be very slow without a GPU.\")\n",
        "     IN_COLAB = 'google.colab' in sys.modules\n",
        "     if IN_COLAB:\n",
        "         print(\"Go to Runtime > Change runtime and select a GPU hardware accelerator.\")\n",
        "else:\n",
        "     !nvidia-smi -L"
      ]
    },
    {
      "cell_type": "markdown",
      "metadata": {
        "id": "AhWTXQfXBiN6"
      },
      "source": [
        "# Set up the needed data sets"
      ]
    },
    {
      "cell_type": "markdown",
      "metadata": {
        "id": "kmtboE3kolMi"
      },
      "source": [
        "## Get hold of a data-set\n",
        "In this exercise we will use Fashion MNIST dataset, which an alternative to MNIST (it is a little harder, but the image size is the same). This is available directly as a [Keras dataset](https://keras.io/datasets/). This is a dataset of 60,000 28x28 grayscale images of 10 fashion categories, along with a test set of 10,000 images.\n",
        "\n",
        "Note that we split our data into **three** data sets: training, validation, testing; each with its own purpose."
      ]
    },
    {
      "cell_type": "code",
      "execution_count": 4,
      "metadata": {
        "colab": {
          "base_uri": "https://localhost:8080/"
        },
        "id": "0ViGcOSI-_t6",
        "outputId": "f733b6bd-1728-4488-cf97-42fc24b7e6fd"
      },
      "outputs": [
        {
          "output_type": "stream",
          "name": "stdout",
          "text": [
            "Downloading data from https://storage.googleapis.com/tensorflow/tf-keras-datasets/train-labels-idx1-ubyte.gz\n",
            "\u001b[1m29515/29515\u001b[0m \u001b[32m━━━━━━━━━━━━━━━━━━━━\u001b[0m\u001b[37m\u001b[0m \u001b[1m0s\u001b[0m 0us/step\n",
            "Downloading data from https://storage.googleapis.com/tensorflow/tf-keras-datasets/train-images-idx3-ubyte.gz\n",
            "\u001b[1m26421880/26421880\u001b[0m \u001b[32m━━━━━━━━━━━━━━━━━━━━\u001b[0m\u001b[37m\u001b[0m \u001b[1m1s\u001b[0m 0us/step\n",
            "Downloading data from https://storage.googleapis.com/tensorflow/tf-keras-datasets/t10k-labels-idx1-ubyte.gz\n",
            "\u001b[1m5148/5148\u001b[0m \u001b[32m━━━━━━━━━━━━━━━━━━━━\u001b[0m\u001b[37m\u001b[0m \u001b[1m0s\u001b[0m 0us/step\n",
            "Downloading data from https://storage.googleapis.com/tensorflow/tf-keras-datasets/t10k-images-idx3-ubyte.gz\n",
            "\u001b[1m4422102/4422102\u001b[0m \u001b[32m━━━━━━━━━━━━━━━━━━━━\u001b[0m\u001b[37m\u001b[0m \u001b[1m0s\u001b[0m 0us/step\n"
          ]
        }
      ],
      "source": [
        "# Get Fashion-MNIST training and test data from Keras database (https://keras.io/datasets/)\n",
        "(train_images0, train_labels0), (test_images, test_labels) = keras.datasets.fashion_mnist.load_data()\n",
        "\n",
        "# Define labels\n",
        "class_names = ['T-shirt/top', 'Trouser', 'Pullover', 'Dress', 'Coat',\n",
        "               'Sandal', 'Shirt', 'Sneaker', 'Bag', 'Ankle boot']\n",
        "\n",
        "# Split the training set into a training and a validation set (20% is validation)\n",
        "train_images, val_images, train_labels, val_labels = train_test_split(train_images0, train_labels0, test_size=0.20)"
      ]
    },
    {
      "cell_type": "code",
      "execution_count": 5,
      "metadata": {
        "colab": {
          "base_uri": "https://localhost:8080/"
        },
        "id": "GNZOs2YwraHQ",
        "outputId": "a844b695-9d36-412b-f3cc-a7b3d26c30e7"
      },
      "outputs": [
        {
          "output_type": "stream",
          "name": "stdout",
          "text": [
            "No training images: 48000  with image size: 28 x 28\n",
            "No test images: 10000\n",
            "No val images: 12000\n",
            "Training labels: [0 1 2 3 4 5 6 7 8 9] ; That is, 10 classes.\n"
          ]
        }
      ],
      "source": [
        "# Print som basic information of data set sizes and data sizes\n",
        "train_no,x,y = train_images.shape\n",
        "print('No training images:',train_no, ' with image size:',x,'x',y)\n",
        "label_no = len(train_labels)\n",
        "if (label_no != train_no) :\n",
        "  print('# labels do not match # training images')\n",
        "\n",
        "test_no,x,y = test_images.shape\n",
        "label_no = len(test_labels)\n",
        "print('No test images:',test_no)\n",
        "if (label_no != test_no) :\n",
        "  print('# labels do not match # test images')\n",
        "\n",
        "val_no,x,y = val_images.shape\n",
        "label_no = len(val_labels)\n",
        "print('No val images:',val_no)\n",
        "if (label_no != val_no) :\n",
        "  print('# labels do not match # val images')\n",
        "\n",
        "classes = np.unique(train_labels)\n",
        "num_classes = len(classes)\n",
        "print('Training labels:', np.unique(train_labels), \"; That is,\", num_classes,\"classes.\" )\n"
      ]
    },
    {
      "cell_type": "markdown",
      "metadata": {
        "id": "Cg4WF2gMzfpm"
      },
      "source": [
        "Note that the training labels are an integer between 0 and 9, which is not very good as outputs (or inputs) for DL models. A better approach would be to use a one-hot encoding. We can convert our label vectors to one-hot encoded matrices by using [to_categorical](https://www.tensorflow.org/api_docs/python/tf/keras/utils/to_categorical) `keras.utils.to_categorical(train_labels)`.\n",
        "\n",
        "But we can achieve the same thing by using [SparseCategoricalCrossentropy](https://keras.io/api/losses/probabilistic_losses/#sparsecategoricalcrossentropy-class) as a loss function instead of the [CategoricalCrossentropy](https://keras.io/api/losses/probabilistic_losses/#categoricalcrossentropy-class). Also note that in both cases we need our model to have as many output nodes as we have classes!"
      ]
    },
    {
      "cell_type": "markdown",
      "metadata": {
        "id": "gYVB7wI8sFgh"
      },
      "source": [
        "## Adjust the data to be better work as ML input\n",
        "\n",
        "Many models working with images are assuming the data to be represented as a 4-D tensor with the shape BHWC [batch_size, height, width, channels] (some ML frameworks prefer to use BCHW instead, so be careful when starting to work on new datasets or ML-frameworks).\n",
        "\n",
        "We also want to normalize data to be \"small\" and \"close\" to zero, e.g. 0 to 1 or –1 to 1. In this example we normalize to values between –0.5 and 0.5."
      ]
    },
    {
      "cell_type": "code",
      "execution_count": 6,
      "metadata": {
        "id": "XL5_y51yqOkR"
      },
      "outputs": [],
      "source": [
        "# Add an \"empty\" color dimension for our data sets\n",
        "train_images = np.expand_dims(train_images, -1)\n",
        "val_images = np.expand_dims(val_images, -1)\n",
        "test_images = np.expand_dims(test_images, -1)\n",
        "\n",
        "# Normalize the images.\n",
        "train_images = (train_images / 255) - 0.5\n",
        "test_images = (test_images / 255) - 0.5\n",
        "val_images = (val_images / 255) - 0.5"
      ]
    },
    {
      "cell_type": "markdown",
      "metadata": {
        "id": "P9F4zkQQDnAz"
      },
      "source": [
        "## Explore the data\n",
        "It is always advised to take a look at the data, to see if we need to massage it further."
      ]
    },
    {
      "cell_type": "code",
      "execution_count": 7,
      "metadata": {
        "colab": {
          "base_uri": "https://localhost:8080/",
          "height": 863
        },
        "id": "dMYGkeRxJ__U",
        "outputId": "e3f22136-8134-47ae-917a-9b63fc470194"
      },
      "outputs": [
        {
          "output_type": "stream",
          "name": "stdout",
          "text": [
            "Label: Trouser\n"
          ]
        },
        {
          "output_type": "display_data",
          "data": {
            "text/plain": [
              "<Figure size 500x500 with 1 Axes>"
            ],
            "image/png": "[encoded data removed]"
          },
          "metadata": {}
        },
        {
          "output_type": "stream",
          "name": "stdout",
          "text": [
            "Label: Trouser\n"
          ]
        },
        {
          "output_type": "display_data",
          "data": {
            "text/plain": [
              "<Figure size 500x500 with 1 Axes>"
            ],
            "image/png": "[encoded data removed]"
          },
          "metadata": {}
        }
      ],
      "source": [
        "# As these are images (28x28) it can be interesting to plot some as images\n",
        "image_index = [30, 30] # \"Random\" images to print\n",
        "\n",
        "for index in image_index:\n",
        "  print( 'Label:', class_names[train_labels[index]])\n",
        "  plt.figure(figsize=(5, 5)) #Increase the size of the image to make it visible\n",
        "  plt.imshow(np.squeeze(train_images[index], axis=-1),cmap='gray')\n",
        "  #plt.gray()\n",
        "  plt.axis('off')  # Turn off the axes\n",
        "  plt.grid(False)\n",
        "  plt.show()#as by default it takes false"
      ]
    },
    {
      "cell_type": "markdown",
      "metadata": {
        "id": "H7CFf7AO4ysm"
      },
      "source": [
        "# Define a convolutional network model"
      ]
    },
    {
      "cell_type": "markdown",
      "metadata": {
        "id": "948BTPYO5BI_"
      },
      "source": [
        "## Define the model using Keras\n",
        "\n",
        "Note that this is a *very* small modell just to have a starting point. A good modell is expected to have 5-50 times as many parameters!"
      ]
    },
    {
      "cell_type": "code",
      "execution_count": 16,
      "metadata": {
        "colab": {
          "base_uri": "https://localhost:8080/",
          "height": 592
        },
        "id": "NHl97r_t4_2t",
        "outputId": "a5680dd7-2764-4dd4-dfef-f82da02bd27d"
      },
      "outputs": [
        {
          "output_type": "stream",
          "name": "stdout",
          "text": [
            "Input shape (28, 28, 1)\n"
          ]
        },
        {
          "output_type": "display_data",
          "data": {
            "text/plain": [
              "\u001b[1mModel: \"sequential_2\"\u001b[0m\n"
            ],
            "text/html": [
              "<pre style=\"white-space:pre;overflow-x:auto;line-height:normal;font-family:Menlo,'DejaVu Sans Mono',consolas,'Courier New',monospace\"><span style=\"font-weight: bold\">Model: \"sequential_2\"</span>\n",
              "</pre>\n"
            ]
          },
          "metadata": {}
        },
        {
          "output_type": "display_data",
          "data": {
            "text/plain": [
              "┏━━━━━━━━━━━━━━━━━━━━━━━━━━━━━━━━━━━━━━┳━━━━━━━━━━━━━━━━━━━━━━━━━━━━━┳━━━━━━━━━━━━━━━━━┓\n",
              "┃\u001b[1m \u001b[0m\u001b[1mLayer (type)                        \u001b[0m\u001b[1m \u001b[0m┃\u001b[1m \u001b[0m\u001b[1mOutput Shape               \u001b[0m\u001b[1m \u001b[0m┃\u001b[1m \u001b[0m\u001b[1m        Param #\u001b[0m\u001b[1m \u001b[0m┃\n",
              "┡━━━━━━━━━━━━━━━━━━━━━━━━━━━━━━━━━━━━━━╇━━━━━━━━━━━━━━━━━━━━━━━━━━━━━╇━━━━━━━━━━━━━━━━━┩\n",
              "│ conv2d_6 (\u001b[38;5;33mConv2D\u001b[0m)                    │ (\u001b[38;5;45mNone\u001b[0m, \u001b[38;5;34m28\u001b[0m, \u001b[38;5;34m28\u001b[0m, \u001b[38;5;34m100\u001b[0m)         │           \u001b[38;5;34m2,600\u001b[0m │\n",
              "├──────────────────────────────────────┼─────────────────────────────┼─────────────────┤\n",
              "│ batch_normalization_6                │ (\u001b[38;5;45mNone\u001b[0m, \u001b[38;5;34m28\u001b[0m, \u001b[38;5;34m28\u001b[0m, \u001b[38;5;34m100\u001b[0m)         │             \u001b[38;5;34m400\u001b[0m │\n",
              "│ (\u001b[38;5;33mBatchNormalization\u001b[0m)                 │                             │                 │\n",
              "├──────────────────────────────────────┼─────────────────────────────┼─────────────────┤\n",
              "│ max_pooling2d_6 (\u001b[38;5;33mMaxPooling2D\u001b[0m)       │ (\u001b[38;5;45mNone\u001b[0m, \u001b[38;5;34m14\u001b[0m, \u001b[38;5;34m14\u001b[0m, \u001b[38;5;34m100\u001b[0m)         │               \u001b[38;5;34m0\u001b[0m │\n",
              "├──────────────────────────────────────┼─────────────────────────────┼─────────────────┤\n",
              "│ conv2d_7 (\u001b[38;5;33mConv2D\u001b[0m)                    │ (\u001b[38;5;45mNone\u001b[0m, \u001b[38;5;34m14\u001b[0m, \u001b[38;5;34m14\u001b[0m, \u001b[38;5;34m100\u001b[0m)         │         \u001b[38;5;34m250,100\u001b[0m │\n",
              "├──────────────────────────────────────┼─────────────────────────────┼─────────────────┤\n",
              "│ batch_normalization_7                │ (\u001b[38;5;45mNone\u001b[0m, \u001b[38;5;34m14\u001b[0m, \u001b[38;5;34m14\u001b[0m, \u001b[38;5;34m100\u001b[0m)         │             \u001b[38;5;34m400\u001b[0m │\n",
              "│ (\u001b[38;5;33mBatchNormalization\u001b[0m)                 │                             │                 │\n",
              "├──────────────────────────────────────┼─────────────────────────────┼─────────────────┤\n",
              "│ max_pooling2d_7 (\u001b[38;5;33mMaxPooling2D\u001b[0m)       │ (\u001b[38;5;45mNone\u001b[0m, \u001b[38;5;34m7\u001b[0m, \u001b[38;5;34m7\u001b[0m, \u001b[38;5;34m100\u001b[0m)           │               \u001b[38;5;34m0\u001b[0m │\n",
              "├──────────────────────────────────────┼─────────────────────────────┼─────────────────┤\n",
              "│ conv2d_8 (\u001b[38;5;33mConv2D\u001b[0m)                    │ (\u001b[38;5;45mNone\u001b[0m, \u001b[38;5;34m7\u001b[0m, \u001b[38;5;34m7\u001b[0m, \u001b[38;5;34m224\u001b[0m)           │         \u001b[38;5;34m201,824\u001b[0m │\n",
              "├──────────────────────────────────────┼─────────────────────────────┼─────────────────┤\n",
              "│ batch_normalization_8                │ (\u001b[38;5;45mNone\u001b[0m, \u001b[38;5;34m7\u001b[0m, \u001b[38;5;34m7\u001b[0m, \u001b[38;5;34m224\u001b[0m)           │             \u001b[38;5;34m896\u001b[0m │\n",
              "│ (\u001b[38;5;33mBatchNormalization\u001b[0m)                 │                             │                 │\n",
              "├──────────────────────────────────────┼─────────────────────────────┼─────────────────┤\n",
              "│ max_pooling2d_8 (\u001b[38;5;33mMaxPooling2D\u001b[0m)       │ (\u001b[38;5;45mNone\u001b[0m, \u001b[38;5;34m3\u001b[0m, \u001b[38;5;34m3\u001b[0m, \u001b[38;5;34m224\u001b[0m)           │               \u001b[38;5;34m0\u001b[0m │\n",
              "├──────────────────────────────────────┼─────────────────────────────┼─────────────────┤\n",
              "│ flatten_2 (\u001b[38;5;33mFlatten\u001b[0m)                  │ (\u001b[38;5;45mNone\u001b[0m, \u001b[38;5;34m2016\u001b[0m)                │               \u001b[38;5;34m0\u001b[0m │\n",
              "├──────────────────────────────────────┼─────────────────────────────┼─────────────────┤\n",
              "│ dense_4 (\u001b[38;5;33mDense\u001b[0m)                      │ (\u001b[38;5;45mNone\u001b[0m, \u001b[38;5;34m128\u001b[0m)                 │         \u001b[38;5;34m258,176\u001b[0m │\n",
              "├──────────────────────────────────────┼─────────────────────────────┼─────────────────┤\n",
              "│ dense_5 (\u001b[38;5;33mDense\u001b[0m)                      │ (\u001b[38;5;45mNone\u001b[0m, \u001b[38;5;34m10\u001b[0m)                  │           \u001b[38;5;34m1,290\u001b[0m │\n",
              "└──────────────────────────────────────┴─────────────────────────────┴─────────────────┘\n"
            ],
            "text/html": [
              "<pre style=\"white-space:pre;overflow-x:auto;line-height:normal;font-family:Menlo,'DejaVu Sans Mono',consolas,'Courier New',monospace\">┏━━━━━━━━━━━━━━━━━━━━━━━━━━━━━━━━━━━━━━┳━━━━━━━━━━━━━━━━━━━━━━━━━━━━━┳━━━━━━━━━━━━━━━━━┓\n",
              "┃<span style=\"font-weight: bold\"> Layer (type)                         </span>┃<span style=\"font-weight: bold\"> Output Shape                </span>┃<span style=\"font-weight: bold\">         Param # </span>┃\n",
              "┡━━━━━━━━━━━━━━━━━━━━━━━━━━━━━━━━━━━━━━╇━━━━━━━━━━━━━━━━━━━━━━━━━━━━━╇━━━━━━━━━━━━━━━━━┩\n",
              "│ conv2d_6 (<span style=\"color: #0087ff; text-decoration-color: #0087ff\">Conv2D</span>)                    │ (<span style=\"color: #00d7ff; text-decoration-color: #00d7ff\">None</span>, <span style=\"color: #00af00; text-decoration-color: #00af00\">28</span>, <span style=\"color: #00af00; text-decoration-color: #00af00\">28</span>, <span style=\"color: #00af00; text-decoration-color: #00af00\">100</span>)         │           <span style=\"color: #00af00; text-decoration-color: #00af00\">2,600</span> │\n",
              "├──────────────────────────────────────┼─────────────────────────────┼─────────────────┤\n",
              "│ batch_normalization_6                │ (<span style=\"color: #00d7ff; text-decoration-color: #00d7ff\">None</span>, <span style=\"color: #00af00; text-decoration-color: #00af00\">28</span>, <span style=\"color: #00af00; text-decoration-color: #00af00\">28</span>, <span style=\"color: #00af00; text-decoration-color: #00af00\">100</span>)         │             <span style=\"color: #00af00; text-decoration-color: #00af00\">400</span> │\n",
              "│ (<span style=\"color: #0087ff; text-decoration-color: #0087ff\">BatchNormalization</span>)                 │                             │                 │\n",
              "├──────────────────────────────────────┼─────────────────────────────┼─────────────────┤\n",
              "│ max_pooling2d_6 (<span style=\"color: #0087ff; text-decoration-color: #0087ff\">MaxPooling2D</span>)       │ (<span style=\"color: #00d7ff; text-decoration-color: #00d7ff\">None</span>, <span style=\"color: #00af00; text-decoration-color: #00af00\">14</span>, <span style=\"color: #00af00; text-decoration-color: #00af00\">14</span>, <span style=\"color: #00af00; text-decoration-color: #00af00\">100</span>)         │               <span style=\"color: #00af00; text-decoration-color: #00af00\">0</span> │\n",
              "├──────────────────────────────────────┼─────────────────────────────┼─────────────────┤\n",
              "│ conv2d_7 (<span style=\"color: #0087ff; text-decoration-color: #0087ff\">Conv2D</span>)                    │ (<span style=\"color: #00d7ff; text-decoration-color: #00d7ff\">None</span>, <span style=\"color: #00af00; text-decoration-color: #00af00\">14</span>, <span style=\"color: #00af00; text-decoration-color: #00af00\">14</span>, <span style=\"color: #00af00; text-decoration-color: #00af00\">100</span>)         │         <span style=\"color: #00af00; text-decoration-color: #00af00\">250,100</span> │\n",
              "├──────────────────────────────────────┼─────────────────────────────┼─────────────────┤\n",
              "│ batch_normalization_7                │ (<span style=\"color: #00d7ff; text-decoration-color: #00d7ff\">None</span>, <span style=\"color: #00af00; text-decoration-color: #00af00\">14</span>, <span style=\"color: #00af00; text-decoration-color: #00af00\">14</span>, <span style=\"color: #00af00; text-decoration-color: #00af00\">100</span>)         │             <span style=\"color: #00af00; text-decoration-color: #00af00\">400</span> │\n",
              "│ (<span style=\"color: #0087ff; text-decoration-color: #0087ff\">BatchNormalization</span>)                 │                             │                 │\n",
              "├──────────────────────────────────────┼─────────────────────────────┼─────────────────┤\n",
              "│ max_pooling2d_7 (<span style=\"color: #0087ff; text-decoration-color: #0087ff\">MaxPooling2D</span>)       │ (<span style=\"color: #00d7ff; text-decoration-color: #00d7ff\">None</span>, <span style=\"color: #00af00; text-decoration-color: #00af00\">7</span>, <span style=\"color: #00af00; text-decoration-color: #00af00\">7</span>, <span style=\"color: #00af00; text-decoration-color: #00af00\">100</span>)           │               <span style=\"color: #00af00; text-decoration-color: #00af00\">0</span> │\n",
              "├──────────────────────────────────────┼─────────────────────────────┼─────────────────┤\n",
              "│ conv2d_8 (<span style=\"color: #0087ff; text-decoration-color: #0087ff\">Conv2D</span>)                    │ (<span style=\"color: #00d7ff; text-decoration-color: #00d7ff\">None</span>, <span style=\"color: #00af00; text-decoration-color: #00af00\">7</span>, <span style=\"color: #00af00; text-decoration-color: #00af00\">7</span>, <span style=\"color: #00af00; text-decoration-color: #00af00\">224</span>)           │         <span style=\"color: #00af00; text-decoration-color: #00af00\">201,824</span> │\n",
              "├──────────────────────────────────────┼─────────────────────────────┼─────────────────┤\n",
              "│ batch_normalization_8                │ (<span style=\"color: #00d7ff; text-decoration-color: #00d7ff\">None</span>, <span style=\"color: #00af00; text-decoration-color: #00af00\">7</span>, <span style=\"color: #00af00; text-decoration-color: #00af00\">7</span>, <span style=\"color: #00af00; text-decoration-color: #00af00\">224</span>)           │             <span style=\"color: #00af00; text-decoration-color: #00af00\">896</span> │\n",
              "│ (<span style=\"color: #0087ff; text-decoration-color: #0087ff\">BatchNormalization</span>)                 │                             │                 │\n",
              "├──────────────────────────────────────┼─────────────────────────────┼─────────────────┤\n",
              "│ max_pooling2d_8 (<span style=\"color: #0087ff; text-decoration-color: #0087ff\">MaxPooling2D</span>)       │ (<span style=\"color: #00d7ff; text-decoration-color: #00d7ff\">None</span>, <span style=\"color: #00af00; text-decoration-color: #00af00\">3</span>, <span style=\"color: #00af00; text-decoration-color: #00af00\">3</span>, <span style=\"color: #00af00; text-decoration-color: #00af00\">224</span>)           │               <span style=\"color: #00af00; text-decoration-color: #00af00\">0</span> │\n",
              "├──────────────────────────────────────┼─────────────────────────────┼─────────────────┤\n",
              "│ flatten_2 (<span style=\"color: #0087ff; text-decoration-color: #0087ff\">Flatten</span>)                  │ (<span style=\"color: #00d7ff; text-decoration-color: #00d7ff\">None</span>, <span style=\"color: #00af00; text-decoration-color: #00af00\">2016</span>)                │               <span style=\"color: #00af00; text-decoration-color: #00af00\">0</span> │\n",
              "├──────────────────────────────────────┼─────────────────────────────┼─────────────────┤\n",
              "│ dense_4 (<span style=\"color: #0087ff; text-decoration-color: #0087ff\">Dense</span>)                      │ (<span style=\"color: #00d7ff; text-decoration-color: #00d7ff\">None</span>, <span style=\"color: #00af00; text-decoration-color: #00af00\">128</span>)                 │         <span style=\"color: #00af00; text-decoration-color: #00af00\">258,176</span> │\n",
              "├──────────────────────────────────────┼─────────────────────────────┼─────────────────┤\n",
              "│ dense_5 (<span style=\"color: #0087ff; text-decoration-color: #0087ff\">Dense</span>)                      │ (<span style=\"color: #00d7ff; text-decoration-color: #00d7ff\">None</span>, <span style=\"color: #00af00; text-decoration-color: #00af00\">10</span>)                  │           <span style=\"color: #00af00; text-decoration-color: #00af00\">1,290</span> │\n",
              "└──────────────────────────────────────┴─────────────────────────────┴─────────────────┘\n",
              "</pre>\n"
            ]
          },
          "metadata": {}
        },
        {
          "output_type": "display_data",
          "data": {
            "text/plain": [
              "\u001b[1m Total params: \u001b[0m\u001b[38;5;34m715,686\u001b[0m (2.73 MB)\n"
            ],
            "text/html": [
              "<pre style=\"white-space:pre;overflow-x:auto;line-height:normal;font-family:Menlo,'DejaVu Sans Mono',consolas,'Courier New',monospace\"><span style=\"font-weight: bold\"> Total params: </span><span style=\"color: #00af00; text-decoration-color: #00af00\">715,686</span> (2.73 MB)\n",
              "</pre>\n"
            ]
          },
          "metadata": {}
        },
        {
          "output_type": "display_data",
          "data": {
            "text/plain": [
              "\u001b[1m Trainable params: \u001b[0m\u001b[38;5;34m714,838\u001b[0m (2.73 MB)\n"
            ],
            "text/html": [
              "<pre style=\"white-space:pre;overflow-x:auto;line-height:normal;font-family:Menlo,'DejaVu Sans Mono',consolas,'Courier New',monospace\"><span style=\"font-weight: bold\"> Trainable params: </span><span style=\"color: #00af00; text-decoration-color: #00af00\">714,838</span> (2.73 MB)\n",
              "</pre>\n"
            ]
          },
          "metadata": {}
        },
        {
          "output_type": "display_data",
          "data": {
            "text/plain": [
              "\u001b[1m Non-trainable params: \u001b[0m\u001b[38;5;34m848\u001b[0m (3.31 KB)\n"
            ],
            "text/html": [
              "<pre style=\"white-space:pre;overflow-x:auto;line-height:normal;font-family:Menlo,'DejaVu Sans Mono',consolas,'Courier New',monospace\"><span style=\"font-weight: bold\"> Non-trainable params: </span><span style=\"color: #00af00; text-decoration-color: #00af00\">848</span> (3.31 KB)\n",
              "</pre>\n"
            ]
          },
          "metadata": {}
        }
      ],
      "source": [
        "from tensorflow.keras.layers import BatchNormalization,MaxPooling2D,Dropout\n",
        "from tensorflow.keras import regularizers\n",
        "\n",
        "\n",
        "# We need to give the input shape (i.e. our image shape) to our model\n",
        "input_shape = test_images[0].shape\n",
        "print(\"Input shape\", input_shape)\n",
        "\n",
        "# The Keras model will be the simplest Keras model for NN networks.\n",
        "# It is a single stack of layers connected sequentially.\n",
        "model = Sequential([\n",
        "\n",
        "# First Convolutional Layer\n",
        "Conv2D(filters=100, kernel_size=(5, 5), padding='same', activation='relu', input_shape=input_shape),\n",
        "BatchNormalization(),\n",
        "MaxPooling2D(pool_size=(2, 2), strides=(2, 2)),\n",
        "\n",
        "\n",
        "# Second Convolutional Layer\n",
        "Conv2D(filters=100, kernel_size=(5, 5), padding='same', activation='relu'),\n",
        "BatchNormalization(),\n",
        "MaxPooling2D(pool_size=(2, 2), strides=(2, 2)),\n",
        "\n",
        "\n",
        "# Third Convolutional Layer\n",
        "Conv2D(filters=224, kernel_size=(3, 3), padding='same', activation='relu'),\n",
        "BatchNormalization(),\n",
        "MaxPooling2D(pool_size=(2, 2), strides=(2, 2)),\n",
        "\n",
        "\n",
        "\n",
        "# Flatten the input. This prepares the vector for fully connected layers.\n",
        "Flatten(),\n",
        "\n",
        "# Add a hidden Dense layer\n",
        "Dense(units=128, activation='relu'),\n",
        "\n",
        "# Add a an output layer. The output space is the number of classes\n",
        "#    Softmax makes the output as probablity vector of the different classes\n",
        "Dense(units=num_classes, activation='softmax')\n",
        "\n",
        "])\n",
        "\n",
        "model.summary()"
      ]
    },
    {
      "cell_type": "markdown",
      "metadata": {
        "id": "7opTLcKc73By"
      },
      "source": [
        "# Set up the model and optimizer for training\n",
        "To set up the optimization of this model we need to compile it, and set what [optimizer](https://keras.io/api/optimizers/), what [loss](https://keras.io/api/losses/), and what [metrics](https://keras.io/api/metrics/) to use. Where, metric is similar to a loss but not used during training but can be used to measure training progress.\n",
        "\n",
        "The model (its parameters) is also initialized to some random values during this phase."
      ]
    },
    {
      "cell_type": "code",
      "execution_count": 17,
      "metadata": {
        "id": "luIM0Q8I9I9_"
      },
      "outputs": [],
      "source": [
        "# Compile the model, as a preparation for training\n",
        "model.compile(\n",
        "  #optimizer='sgd',\n",
        "  optimizer='adam',\n",
        "  loss='categorical_crossentropy',\n",
        "  metrics=['categorical_accuracy']\n",
        ")"
      ]
    },
    {
      "cell_type": "code",
      "execution_count": 18,
      "metadata": {
        "id": "UVpeNSXCVUmJ"
      },
      "outputs": [],
      "source": [
        "#the EarlyStopping callback\n",
        "es = tf.keras.callbacks.EarlyStopping(\n",
        "    monitor='val_loss',             # Monitor validation loss\n",
        "    patience=5,\n",
        "    min_delta=0.001,                # Minimum change to consider as improvement\n",
        "    restore_best_weights=True,      # Restore the best model weights\n",
        "    verbose=1\n",
        ")"
      ]
    },
    {
      "cell_type": "markdown",
      "metadata": {
        "id": "q56fJLY89amp"
      },
      "source": [
        "# Run the training"
      ]
    },
    {
      "cell_type": "code",
      "execution_count": 19,
      "metadata": {
        "colab": {
          "base_uri": "https://localhost:8080/"
        },
        "id": "fnJObQvJ-Gv7",
        "outputId": "ce439d08-f1ee-45e8-d20d-96f60897e7e1"
      },
      "outputs": [
        {
          "output_type": "stream",
          "name": "stdout",
          "text": [
            "Epoch 1/11\n",
            "\u001b[1m1500/1500\u001b[0m \u001b[32m━━━━━━━━━━━━━━━━━━━━\u001b[0m\u001b[37m\u001b[0m \u001b[1m16s\u001b[0m 7ms/step - categorical_accuracy: 0.8036 - loss: 0.5896 - val_categorical_accuracy: 0.8702 - val_loss: 0.3516\n",
            "Epoch 2/11\n",
            "\u001b[1m1500/1500\u001b[0m \u001b[32m━━━━━━━━━━━━━━━━━━━━\u001b[0m\u001b[37m\u001b[0m \u001b[1m16s\u001b[0m 6ms/step - categorical_accuracy: 0.8944 - loss: 0.2852 - val_categorical_accuracy: 0.8963 - val_loss: 0.2759\n",
            "Epoch 3/11\n",
            "\u001b[1m1500/1500\u001b[0m \u001b[32m━━━━━━━━━━━━━━━━━━━━\u001b[0m\u001b[37m\u001b[0m \u001b[1m9s\u001b[0m 6ms/step - categorical_accuracy: 0.9127 - loss: 0.2366 - val_categorical_accuracy: 0.9029 - val_loss: 0.2634\n",
            "Epoch 4/11\n",
            "\u001b[1m1500/1500\u001b[0m \u001b[32m━━━━━━━━━━━━━━━━━━━━\u001b[0m\u001b[37m\u001b[0m \u001b[1m9s\u001b[0m 6ms/step - categorical_accuracy: 0.9242 - loss: 0.2024 - val_categorical_accuracy: 0.9012 - val_loss: 0.2805\n",
            "Epoch 5/11\n",
            "\u001b[1m1500/1500\u001b[0m \u001b[32m━━━━━━━━━━━━━━━━━━━━\u001b[0m\u001b[37m\u001b[0m \u001b[1m9s\u001b[0m 6ms/step - categorical_accuracy: 0.9334 - loss: 0.1771 - val_categorical_accuracy: 0.9057 - val_loss: 0.2604\n",
            "Epoch 6/11\n",
            "\u001b[1m1500/1500\u001b[0m \u001b[32m━━━━━━━━━━━━━━━━━━━━\u001b[0m\u001b[37m\u001b[0m \u001b[1m10s\u001b[0m 6ms/step - categorical_accuracy: 0.9432 - loss: 0.1519 - val_categorical_accuracy: 0.9165 - val_loss: 0.2466\n",
            "Epoch 7/11\n",
            "\u001b[1m1500/1500\u001b[0m \u001b[32m━━━━━━━━━━━━━━━━━━━━\u001b[0m\u001b[37m\u001b[0m \u001b[1m9s\u001b[0m 6ms/step - categorical_accuracy: 0.9493 - loss: 0.1321 - val_categorical_accuracy: 0.9158 - val_loss: 0.2692\n",
            "Epoch 8/11\n",
            "\u001b[1m1500/1500\u001b[0m \u001b[32m━━━━━━━━━━━━━━━━━━━━\u001b[0m\u001b[37m\u001b[0m \u001b[1m10s\u001b[0m 6ms/step - categorical_accuracy: 0.9579 - loss: 0.1150 - val_categorical_accuracy: 0.9195 - val_loss: 0.2518\n",
            "Epoch 9/11\n",
            "\u001b[1m1500/1500\u001b[0m \u001b[32m━━━━━━━━━━━━━━━━━━━━\u001b[0m\u001b[37m\u001b[0m \u001b[1m9s\u001b[0m 6ms/step - categorical_accuracy: 0.9646 - loss: 0.0944 - val_categorical_accuracy: 0.9181 - val_loss: 0.2686\n",
            "Epoch 10/11\n",
            "\u001b[1m1500/1500\u001b[0m \u001b[32m━━━━━━━━━━━━━━━━━━━━\u001b[0m\u001b[37m\u001b[0m \u001b[1m10s\u001b[0m 6ms/step - categorical_accuracy: 0.9698 - loss: 0.0776 - val_categorical_accuracy: 0.9178 - val_loss: 0.2940\n",
            "Epoch 11/11\n",
            "\u001b[1m1500/1500\u001b[0m \u001b[32m━━━━━━━━━━━━━━━━━━━━\u001b[0m\u001b[37m\u001b[0m \u001b[1m9s\u001b[0m 6ms/step - categorical_accuracy: 0.9714 - loss: 0.0769 - val_categorical_accuracy: 0.9110 - val_loss: 0.3268\n",
            "Epoch 11: early stopping\n",
            "Restoring model weights from the end of the best epoch: 6.\n"
          ]
        }
      ],
      "source": [
        "epochs = 11      ## Number of epoch to run\n",
        "batch_size = 32  ## Mini batch size\n",
        "\n",
        "# Train the model.\n",
        "history = model.fit(\n",
        "  train_images, to_categorical(train_labels),\n",
        "  epochs=epochs,\n",
        "  batch_size=batch_size,\n",
        "  verbose = 1,\n",
        "  validation_data=(val_images, to_categorical(val_labels)),\n",
        "  callbacks=[es]  #EarlyStopping callback\n",
        "\n",
        ")"
      ]
    },
    {
      "cell_type": "markdown",
      "metadata": {
        "id": "9weV4eGc9tp4"
      },
      "source": [
        "# Explore the training progress\n",
        "Show the training progress, by plotting the training and validation accuracy and loss"
      ]
    },
    {
      "cell_type": "code",
      "execution_count": 20,
      "metadata": {
        "colab": {
          "base_uri": "https://localhost:8080/",
          "height": 927
        },
        "id": "jSw5Dp3f-XCw",
        "outputId": "e537b27d-1011-4b18-f019-46f56c877a74"
      },
      "outputs": [
        {
          "output_type": "display_data",
          "data": {
            "text/plain": [
              "<Figure size 640x480 with 1 Axes>"
            ],
            "image/png": "[encoded data removed]"
          },
          "metadata": {}
        },
        {
          "output_type": "display_data",
          "data": {
            "text/plain": [
              "<Figure size 640x480 with 1 Axes>"
            ],
            "image/png": "[encoded data removed]"
          },
          "metadata": {}
        }
      ],
      "source": [
        "epochrange = range(1, len(history.history['loss']) + 1)\n",
        "train_acc = history.history['categorical_accuracy']\n",
        "val_acc = history.history['val_categorical_accuracy']\n",
        "\n",
        "train_loss = history.history['loss']\n",
        "val_loss = history.history['val_loss']\n",
        "\n",
        "plt.plot(epochrange, train_acc, 'bo', label='Training acc')\n",
        "plt.plot(epochrange, val_acc, 'b', label='Validation acc')\n",
        "plt.title('Training and validation accuracy (modell 1)')\n",
        "plt.xlabel('Epochs')\n",
        "plt.ylabel('Accuracy')\n",
        "plt.legend()\n",
        "plt.show()\n",
        "\n",
        "plt.plot(epochrange, train_loss, 'bo', label='Training loss')\n",
        "plt.plot(epochrange, val_loss, 'b', label='Validation loss')\n",
        "plt.title('Training and validation loss (modell 1)')\n",
        "plt.xlabel('Epochs')\n",
        "plt.ylabel('Loss')\n",
        "plt.legend()\n",
        "plt.show()"
      ]
    },
    {
      "cell_type": "markdown",
      "metadata": {
        "id": "Bn2kPMlsJxpW"
      },
      "source": [
        "Note how the training accuracy constantly goes up (and the training loss down). While the validation loss bottoms out somewhere between 5-10 epochs and then slowly goes up. This indicates slight overtraining, if the loss had continued downward along with the training loss, the model would still have been undertrained. But overall, we can suspect that the model's capacity at 15 epochs is the best this model can achieve."
      ]
    },
    {
      "cell_type": "markdown",
      "metadata": {
        "id": "_6V9rOkX-bRa"
      },
      "source": [
        "# Evaluate the model on the test data.\n",
        "This first model get something around 89.5 % accuracy, not bad, but we can improve on this!"
      ]
    },
    {
      "cell_type": "code",
      "execution_count": 21,
      "metadata": {
        "colab": {
          "base_uri": "https://localhost:8080/"
        },
        "id": "ZrwPwEQn-dVX",
        "outputId": "ebe05645-ee7f-4806-af5b-e5931c2b5f2f"
      },
      "outputs": [
        {
          "output_type": "stream",
          "name": "stdout",
          "text": [
            "\u001b[1m313/313\u001b[0m \u001b[32m━━━━━━━━━━━━━━━━━━━━\u001b[0m\u001b[37m\u001b[0m \u001b[1m2s\u001b[0m 4ms/step - categorical_accuracy: 0.9059 - loss: 0.2863\n",
            "Test accuracy: 0.905\n"
          ]
        }
      ],
      "source": [
        "# Evaluate the model.\n",
        "test_loss, test_acc = model.evaluate(test_images,to_categorical(test_labels))\n",
        "print('Test accuracy: %.3f' % test_acc)"
      ]
    },
    {
      "cell_type": "markdown",
      "metadata": {
        "id": "oR2HHYg2AoMK"
      },
      "source": [
        "# Exercise Part 1a\n",
        "## Questions to answer:\n",
        "* How many parameters does your model have?\n",
        "**    Total Parameters: 201,050**\n",
        "\n",
        "* What test accuracy do you get? (Since the model is randomly initialized, you may get a value that differs slightly.)\n",
        "    **Test Accuracy Achieved: 0.896 (89.6%) potential room for improvement, especially considering overtraining.**\n",
        "\n",
        "* If you look at the training progress, has the model finished training or is it undertrained or maybe overtrained, what in the training curves can determine that?\n",
        "    **Overtrained, After 15 epochs the model is memorizing the training data but is not generalizing well to the validation data. This is the sign of overfitting.**\n",
        "\n",
        "* How many epochs would have been appropriate to use?\n",
        "   ** Epochs: 15**\n"
      ]
    },
    {
      "cell_type": "markdown",
      "metadata": {
        "id": "QkuZ5cU72MJJ"
      },
      "source": [
        "# Part 1b - Continued Experiments:\n",
        "There are now many things you can explore but we want you to now explore some different models. Investigate if you get an improvement in test accuracy if you make the model more powerful (more nodes and/or more layers). Always keep an eye on if the model starts to overtrain (that the validation loss starts to go up again). Note that you like to have MaxPooling2D layers between each or every other convolution layer, as it helps keep down the number of parameters, which also leads to faster and often better training results (gives, for example, a certain extra translation and scale invariance). This is especially important if you have large images, but can probably have a good effect even on our minimal images.\n",
        "\n",
        "The goal is to make the model complex enough to represent the data well. A certain amount of overtraining is OK, we will then correct it with regularization.\n",
        "* How many convolution layers seems reasonable to use (stay below 4-5, it might be better to add kernels instead).\n",
        " 4 convolution layers provided a balance between model complexity and performance. Adding more layers beyond this point led to marginal improvements in accuracy but increased the overfitting and 4 layers seem sufficient for the Fashion-MNIST dataset, which consists of grayscale images with moderate complexity.\n",
        "\n",
        "* How many kernals/nodes seems reasonable to use?\n",
        "kernels with increasing filters, such as 8, 16, 32, 64, worked effectively.This strategy helped to avoid excessive parameters in shallow layers while allowing the deeper layers to learn complex patterns.\n",
        "\n",
        "* Also try to use e.g. 5x5 kernals for the first time or maybe some more layer, will it be better then?\n",
        "Yes, increasing the kernel size (e.g., 5x5) in the first convolution layer improved performance by reducing overfitting.\n",
        "\n",
        "* If a model overtrains, do an experiment where instead of running all your epochs, you stop where the validation error starts going up again. What will be the difference in test accuracy?\n",
        "Experiment Setup:\n",
        "Total training epochs allowed: 30\n",
        "Early stopping is applied when the validation error stops improving for a predefined patience period 5.\n",
        "Early stopping triggered at Epoch 13, with model weights restored to those from Epoch 8, where validation performance was optimal.\n",
        "Validation Accuracy 91.17% (At Epoch 8 (Early Stopping)), 90.89% (At Epoch 13 (Continued Training))\n",
        "Validation Loss 0.2618 (At Epoch 8 (Early Stopping)), 0.2908 (At Epoch 13 (Continued Training))\n",
        "Test Accuracy 90.7% (At Epoch 8 (Early Stopping)), Slightly lower (At Epoch 13 (Continued Training))\n"
      ]
    },
    {
      "cell_type": "code",
      "execution_count": null,
      "metadata": {
        "colab": {
          "base_uri": "https://localhost:8080/",
          "height": 740
        },
        "id": "DpSLuBimWmJk",
        "outputId": "1672a1fa-317d-492e-e427-9b0e686c26ce"
      },
      "outputs": [
        {
          "output_type": "stream",
          "name": "stdout",
          "text": [
            "Input shape (28, 28, 1)\n"
          ]
        },
        {
          "output_type": "display_data",
          "data": {
            "text/plain": [
              "\u001b[1mModel: \"sequential_1\"\u001b[0m\n"
            ],
            "text/html": [
              "<pre style=\"white-space:pre;overflow-x:auto;line-height:normal;font-family:Menlo,'DejaVu Sans Mono',consolas,'Courier New',monospace\"><span style=\"font-weight: bold\">Model: \"sequential_1\"</span>\n",
              "</pre>\n"
            ]
          },
          "metadata": {}
        },
        {
          "output_type": "display_data",
          "data": {
            "text/plain": [
              "┏━━━━━━━━━━━━━━━━━━━━━━━━━━━━━━━━━━━━━━┳━━━━━━━━━━━━━━━━━━━━━━━━━━━━━┳━━━━━━━━━━━━━━━━━┓\n",
              "┃\u001b[1m \u001b[0m\u001b[1mLayer (type)                        \u001b[0m\u001b[1m \u001b[0m┃\u001b[1m \u001b[0m\u001b[1mOutput Shape               \u001b[0m\u001b[1m \u001b[0m┃\u001b[1m \u001b[0m\u001b[1m        Param #\u001b[0m\u001b[1m \u001b[0m┃\n",
              "┡━━━━━━━━━━━━━━━━━━━━━━━━━━━━━━━━━━━━━━╇━━━━━━━━━━━━━━━━━━━━━━━━━━━━━╇━━━━━━━━━━━━━━━━━┩\n",
              "│ conv2d_4 (\u001b[38;5;33mConv2D\u001b[0m)                    │ (\u001b[38;5;45mNone\u001b[0m, \u001b[38;5;34m28\u001b[0m, \u001b[38;5;34m28\u001b[0m, \u001b[38;5;34m8\u001b[0m)           │             \u001b[38;5;34m208\u001b[0m │\n",
              "├──────────────────────────────────────┼─────────────────────────────┼─────────────────┤\n",
              "│ batch_normalization_4                │ (\u001b[38;5;45mNone\u001b[0m, \u001b[38;5;34m28\u001b[0m, \u001b[38;5;34m28\u001b[0m, \u001b[38;5;34m8\u001b[0m)           │              \u001b[38;5;34m32\u001b[0m │\n",
              "│ (\u001b[38;5;33mBatchNormalization\u001b[0m)                 │                             │                 │\n",
              "├──────────────────────────────────────┼─────────────────────────────┼─────────────────┤\n",
              "│ max_pooling2d_4 (\u001b[38;5;33mMaxPooling2D\u001b[0m)       │ (\u001b[38;5;45mNone\u001b[0m, \u001b[38;5;34m14\u001b[0m, \u001b[38;5;34m14\u001b[0m, \u001b[38;5;34m8\u001b[0m)           │               \u001b[38;5;34m0\u001b[0m │\n",
              "├──────────────────────────────────────┼─────────────────────────────┼─────────────────┤\n",
              "│ conv2d_5 (\u001b[38;5;33mConv2D\u001b[0m)                    │ (\u001b[38;5;45mNone\u001b[0m, \u001b[38;5;34m14\u001b[0m, \u001b[38;5;34m14\u001b[0m, \u001b[38;5;34m16\u001b[0m)          │           \u001b[38;5;34m3,216\u001b[0m │\n",
              "├──────────────────────────────────────┼─────────────────────────────┼─────────────────┤\n",
              "│ batch_normalization_5                │ (\u001b[38;5;45mNone\u001b[0m, \u001b[38;5;34m14\u001b[0m, \u001b[38;5;34m14\u001b[0m, \u001b[38;5;34m16\u001b[0m)          │              \u001b[38;5;34m64\u001b[0m │\n",
              "│ (\u001b[38;5;33mBatchNormalization\u001b[0m)                 │                             │                 │\n",
              "├──────────────────────────────────────┼─────────────────────────────┼─────────────────┤\n",
              "│ max_pooling2d_5 (\u001b[38;5;33mMaxPooling2D\u001b[0m)       │ (\u001b[38;5;45mNone\u001b[0m, \u001b[38;5;34m7\u001b[0m, \u001b[38;5;34m7\u001b[0m, \u001b[38;5;34m16\u001b[0m)            │               \u001b[38;5;34m0\u001b[0m │\n",
              "├──────────────────────────────────────┼─────────────────────────────┼─────────────────┤\n",
              "│ conv2d_6 (\u001b[38;5;33mConv2D\u001b[0m)                    │ (\u001b[38;5;45mNone\u001b[0m, \u001b[38;5;34m7\u001b[0m, \u001b[38;5;34m7\u001b[0m, \u001b[38;5;34m32\u001b[0m)            │          \u001b[38;5;34m12,832\u001b[0m │\n",
              "├──────────────────────────────────────┼─────────────────────────────┼─────────────────┤\n",
              "│ batch_normalization_6                │ (\u001b[38;5;45mNone\u001b[0m, \u001b[38;5;34m7\u001b[0m, \u001b[38;5;34m7\u001b[0m, \u001b[38;5;34m32\u001b[0m)            │             \u001b[38;5;34m128\u001b[0m │\n",
              "│ (\u001b[38;5;33mBatchNormalization\u001b[0m)                 │                             │                 │\n",
              "├──────────────────────────────────────┼─────────────────────────────┼─────────────────┤\n",
              "│ max_pooling2d_6 (\u001b[38;5;33mMaxPooling2D\u001b[0m)       │ (\u001b[38;5;45mNone\u001b[0m, \u001b[38;5;34m3\u001b[0m, \u001b[38;5;34m3\u001b[0m, \u001b[38;5;34m32\u001b[0m)            │               \u001b[38;5;34m0\u001b[0m │\n",
              "├──────────────────────────────────────┼─────────────────────────────┼─────────────────┤\n",
              "│ conv2d_7 (\u001b[38;5;33mConv2D\u001b[0m)                    │ (\u001b[38;5;45mNone\u001b[0m, \u001b[38;5;34m3\u001b[0m, \u001b[38;5;34m3\u001b[0m, \u001b[38;5;34m64\u001b[0m)            │          \u001b[38;5;34m51,264\u001b[0m │\n",
              "├──────────────────────────────────────┼─────────────────────────────┼─────────────────┤\n",
              "│ batch_normalization_7                │ (\u001b[38;5;45mNone\u001b[0m, \u001b[38;5;34m3\u001b[0m, \u001b[38;5;34m3\u001b[0m, \u001b[38;5;34m64\u001b[0m)            │             \u001b[38;5;34m256\u001b[0m │\n",
              "│ (\u001b[38;5;33mBatchNormalization\u001b[0m)                 │                             │                 │\n",
              "├──────────────────────────────────────┼─────────────────────────────┼─────────────────┤\n",
              "│ max_pooling2d_7 (\u001b[38;5;33mMaxPooling2D\u001b[0m)       │ (\u001b[38;5;45mNone\u001b[0m, \u001b[38;5;34m1\u001b[0m, \u001b[38;5;34m1\u001b[0m, \u001b[38;5;34m64\u001b[0m)            │               \u001b[38;5;34m0\u001b[0m │\n",
              "├──────────────────────────────────────┼─────────────────────────────┼─────────────────┤\n",
              "│ flatten_1 (\u001b[38;5;33mFlatten\u001b[0m)                  │ (\u001b[38;5;45mNone\u001b[0m, \u001b[38;5;34m64\u001b[0m)                  │               \u001b[38;5;34m0\u001b[0m │\n",
              "├──────────────────────────────────────┼─────────────────────────────┼─────────────────┤\n",
              "│ dense_2 (\u001b[38;5;33mDense\u001b[0m)                      │ (\u001b[38;5;45mNone\u001b[0m, \u001b[38;5;34m64\u001b[0m)                  │           \u001b[38;5;34m4,160\u001b[0m │\n",
              "├──────────────────────────────────────┼─────────────────────────────┼─────────────────┤\n",
              "│ dropout_1 (\u001b[38;5;33mDropout\u001b[0m)                  │ (\u001b[38;5;45mNone\u001b[0m, \u001b[38;5;34m64\u001b[0m)                  │               \u001b[38;5;34m0\u001b[0m │\n",
              "├──────────────────────────────────────┼─────────────────────────────┼─────────────────┤\n",
              "│ dense_3 (\u001b[38;5;33mDense\u001b[0m)                      │ (\u001b[38;5;45mNone\u001b[0m, \u001b[38;5;34m10\u001b[0m)                  │             \u001b[38;5;34m650\u001b[0m │\n",
              "└──────────────────────────────────────┴─────────────────────────────┴─────────────────┘\n"
            ],
            "text/html": [
              "<pre style=\"white-space:pre;overflow-x:auto;line-height:normal;font-family:Menlo,'DejaVu Sans Mono',consolas,'Courier New',monospace\">┏━━━━━━━━━━━━━━━━━━━━━━━━━━━━━━━━━━━━━━┳━━━━━━━━━━━━━━━━━━━━━━━━━━━━━┳━━━━━━━━━━━━━━━━━┓\n",
              "┃<span style=\"font-weight: bold\"> Layer (type)                         </span>┃<span style=\"font-weight: bold\"> Output Shape                </span>┃<span style=\"font-weight: bold\">         Param # </span>┃\n",
              "┡━━━━━━━━━━━━━━━━━━━━━━━━━━━━━━━━━━━━━━╇━━━━━━━━━━━━━━━━━━━━━━━━━━━━━╇━━━━━━━━━━━━━━━━━┩\n",
              "│ conv2d_4 (<span style=\"color: #0087ff; text-decoration-color: #0087ff\">Conv2D</span>)                    │ (<span style=\"color: #00d7ff; text-decoration-color: #00d7ff\">None</span>, <span style=\"color: #00af00; text-decoration-color: #00af00\">28</span>, <span style=\"color: #00af00; text-decoration-color: #00af00\">28</span>, <span style=\"color: #00af00; text-decoration-color: #00af00\">8</span>)           │             <span style=\"color: #00af00; text-decoration-color: #00af00\">208</span> │\n",
              "├──────────────────────────────────────┼─────────────────────────────┼─────────────────┤\n",
              "│ batch_normalization_4                │ (<span style=\"color: #00d7ff; text-decoration-color: #00d7ff\">None</span>, <span style=\"color: #00af00; text-decoration-color: #00af00\">28</span>, <span style=\"color: #00af00; text-decoration-color: #00af00\">28</span>, <span style=\"color: #00af00; text-decoration-color: #00af00\">8</span>)           │              <span style=\"color: #00af00; text-decoration-color: #00af00\">32</span> │\n",
              "│ (<span style=\"color: #0087ff; text-decoration-color: #0087ff\">BatchNormalization</span>)                 │                             │                 │\n",
              "├──────────────────────────────────────┼─────────────────────────────┼─────────────────┤\n",
              "│ max_pooling2d_4 (<span style=\"color: #0087ff; text-decoration-color: #0087ff\">MaxPooling2D</span>)       │ (<span style=\"color: #00d7ff; text-decoration-color: #00d7ff\">None</span>, <span style=\"color: #00af00; text-decoration-color: #00af00\">14</span>, <span style=\"color: #00af00; text-decoration-color: #00af00\">14</span>, <span style=\"color: #00af00; text-decoration-color: #00af00\">8</span>)           │               <span style=\"color: #00af00; text-decoration-color: #00af00\">0</span> │\n",
              "├──────────────────────────────────────┼─────────────────────────────┼─────────────────┤\n",
              "│ conv2d_5 (<span style=\"color: #0087ff; text-decoration-color: #0087ff\">Conv2D</span>)                    │ (<span style=\"color: #00d7ff; text-decoration-color: #00d7ff\">None</span>, <span style=\"color: #00af00; text-decoration-color: #00af00\">14</span>, <span style=\"color: #00af00; text-decoration-color: #00af00\">14</span>, <span style=\"color: #00af00; text-decoration-color: #00af00\">16</span>)          │           <span style=\"color: #00af00; text-decoration-color: #00af00\">3,216</span> │\n",
              "├──────────────────────────────────────┼─────────────────────────────┼─────────────────┤\n",
              "│ batch_normalization_5                │ (<span style=\"color: #00d7ff; text-decoration-color: #00d7ff\">None</span>, <span style=\"color: #00af00; text-decoration-color: #00af00\">14</span>, <span style=\"color: #00af00; text-decoration-color: #00af00\">14</span>, <span style=\"color: #00af00; text-decoration-color: #00af00\">16</span>)          │              <span style=\"color: #00af00; text-decoration-color: #00af00\">64</span> │\n",
              "│ (<span style=\"color: #0087ff; text-decoration-color: #0087ff\">BatchNormalization</span>)                 │                             │                 │\n",
              "├──────────────────────────────────────┼─────────────────────────────┼─────────────────┤\n",
              "│ max_pooling2d_5 (<span style=\"color: #0087ff; text-decoration-color: #0087ff\">MaxPooling2D</span>)       │ (<span style=\"color: #00d7ff; text-decoration-color: #00d7ff\">None</span>, <span style=\"color: #00af00; text-decoration-color: #00af00\">7</span>, <span style=\"color: #00af00; text-decoration-color: #00af00\">7</span>, <span style=\"color: #00af00; text-decoration-color: #00af00\">16</span>)            │               <span style=\"color: #00af00; text-decoration-color: #00af00\">0</span> │\n",
              "├──────────────────────────────────────┼─────────────────────────────┼─────────────────┤\n",
              "│ conv2d_6 (<span style=\"color: #0087ff; text-decoration-color: #0087ff\">Conv2D</span>)                    │ (<span style=\"color: #00d7ff; text-decoration-color: #00d7ff\">None</span>, <span style=\"color: #00af00; text-decoration-color: #00af00\">7</span>, <span style=\"color: #00af00; text-decoration-color: #00af00\">7</span>, <span style=\"color: #00af00; text-decoration-color: #00af00\">32</span>)            │          <span style=\"color: #00af00; text-decoration-color: #00af00\">12,832</span> │\n",
              "├──────────────────────────────────────┼─────────────────────────────┼─────────────────┤\n",
              "│ batch_normalization_6                │ (<span style=\"color: #00d7ff; text-decoration-color: #00d7ff\">None</span>, <span style=\"color: #00af00; text-decoration-color: #00af00\">7</span>, <span style=\"color: #00af00; text-decoration-color: #00af00\">7</span>, <span style=\"color: #00af00; text-decoration-color: #00af00\">32</span>)            │             <span style=\"color: #00af00; text-decoration-color: #00af00\">128</span> │\n",
              "│ (<span style=\"color: #0087ff; text-decoration-color: #0087ff\">BatchNormalization</span>)                 │                             │                 │\n",
              "├──────────────────────────────────────┼─────────────────────────────┼─────────────────┤\n",
              "│ max_pooling2d_6 (<span style=\"color: #0087ff; text-decoration-color: #0087ff\">MaxPooling2D</span>)       │ (<span style=\"color: #00d7ff; text-decoration-color: #00d7ff\">None</span>, <span style=\"color: #00af00; text-decoration-color: #00af00\">3</span>, <span style=\"color: #00af00; text-decoration-color: #00af00\">3</span>, <span style=\"color: #00af00; text-decoration-color: #00af00\">32</span>)            │               <span style=\"color: #00af00; text-decoration-color: #00af00\">0</span> │\n",
              "├──────────────────────────────────────┼─────────────────────────────┼─────────────────┤\n",
              "│ conv2d_7 (<span style=\"color: #0087ff; text-decoration-color: #0087ff\">Conv2D</span>)                    │ (<span style=\"color: #00d7ff; text-decoration-color: #00d7ff\">None</span>, <span style=\"color: #00af00; text-decoration-color: #00af00\">3</span>, <span style=\"color: #00af00; text-decoration-color: #00af00\">3</span>, <span style=\"color: #00af00; text-decoration-color: #00af00\">64</span>)            │          <span style=\"color: #00af00; text-decoration-color: #00af00\">51,264</span> │\n",
              "├──────────────────────────────────────┼─────────────────────────────┼─────────────────┤\n",
              "│ batch_normalization_7                │ (<span style=\"color: #00d7ff; text-decoration-color: #00d7ff\">None</span>, <span style=\"color: #00af00; text-decoration-color: #00af00\">3</span>, <span style=\"color: #00af00; text-decoration-color: #00af00\">3</span>, <span style=\"color: #00af00; text-decoration-color: #00af00\">64</span>)            │             <span style=\"color: #00af00; text-decoration-color: #00af00\">256</span> │\n",
              "│ (<span style=\"color: #0087ff; text-decoration-color: #0087ff\">BatchNormalization</span>)                 │                             │                 │\n",
              "├──────────────────────────────────────┼─────────────────────────────┼─────────────────┤\n",
              "│ max_pooling2d_7 (<span style=\"color: #0087ff; text-decoration-color: #0087ff\">MaxPooling2D</span>)       │ (<span style=\"color: #00d7ff; text-decoration-color: #00d7ff\">None</span>, <span style=\"color: #00af00; text-decoration-color: #00af00\">1</span>, <span style=\"color: #00af00; text-decoration-color: #00af00\">1</span>, <span style=\"color: #00af00; text-decoration-color: #00af00\">64</span>)            │               <span style=\"color: #00af00; text-decoration-color: #00af00\">0</span> │\n",
              "├──────────────────────────────────────┼─────────────────────────────┼─────────────────┤\n",
              "│ flatten_1 (<span style=\"color: #0087ff; text-decoration-color: #0087ff\">Flatten</span>)                  │ (<span style=\"color: #00d7ff; text-decoration-color: #00d7ff\">None</span>, <span style=\"color: #00af00; text-decoration-color: #00af00\">64</span>)                  │               <span style=\"color: #00af00; text-decoration-color: #00af00\">0</span> │\n",
              "├──────────────────────────────────────┼─────────────────────────────┼─────────────────┤\n",
              "│ dense_2 (<span style=\"color: #0087ff; text-decoration-color: #0087ff\">Dense</span>)                      │ (<span style=\"color: #00d7ff; text-decoration-color: #00d7ff\">None</span>, <span style=\"color: #00af00; text-decoration-color: #00af00\">64</span>)                  │           <span style=\"color: #00af00; text-decoration-color: #00af00\">4,160</span> │\n",
              "├──────────────────────────────────────┼─────────────────────────────┼─────────────────┤\n",
              "│ dropout_1 (<span style=\"color: #0087ff; text-decoration-color: #0087ff\">Dropout</span>)                  │ (<span style=\"color: #00d7ff; text-decoration-color: #00d7ff\">None</span>, <span style=\"color: #00af00; text-decoration-color: #00af00\">64</span>)                  │               <span style=\"color: #00af00; text-decoration-color: #00af00\">0</span> │\n",
              "├──────────────────────────────────────┼─────────────────────────────┼─────────────────┤\n",
              "│ dense_3 (<span style=\"color: #0087ff; text-decoration-color: #0087ff\">Dense</span>)                      │ (<span style=\"color: #00d7ff; text-decoration-color: #00d7ff\">None</span>, <span style=\"color: #00af00; text-decoration-color: #00af00\">10</span>)                  │             <span style=\"color: #00af00; text-decoration-color: #00af00\">650</span> │\n",
              "└──────────────────────────────────────┴─────────────────────────────┴─────────────────┘\n",
              "</pre>\n"
            ]
          },
          "metadata": {}
        },
        {
          "output_type": "display_data",
          "data": {
            "text/plain": [
              "\u001b[1m Total params: \u001b[0m\u001b[38;5;34m72,810\u001b[0m (284.41 KB)\n"
            ],
            "text/html": [
              "<pre style=\"white-space:pre;overflow-x:auto;line-height:normal;font-family:Menlo,'DejaVu Sans Mono',consolas,'Courier New',monospace\"><span style=\"font-weight: bold\"> Total params: </span><span style=\"color: #00af00; text-decoration-color: #00af00\">72,810</span> (284.41 KB)\n",
              "</pre>\n"
            ]
          },
          "metadata": {}
        },
        {
          "output_type": "display_data",
          "data": {
            "text/plain": [
              "\u001b[1m Trainable params: \u001b[0m\u001b[38;5;34m72,570\u001b[0m (283.48 KB)\n"
            ],
            "text/html": [
              "<pre style=\"white-space:pre;overflow-x:auto;line-height:normal;font-family:Menlo,'DejaVu Sans Mono',consolas,'Courier New',monospace\"><span style=\"font-weight: bold\"> Trainable params: </span><span style=\"color: #00af00; text-decoration-color: #00af00\">72,570</span> (283.48 KB)\n",
              "</pre>\n"
            ]
          },
          "metadata": {}
        },
        {
          "output_type": "display_data",
          "data": {
            "text/plain": [
              "\u001b[1m Non-trainable params: \u001b[0m\u001b[38;5;34m240\u001b[0m (960.00 B)\n"
            ],
            "text/html": [
              "<pre style=\"white-space:pre;overflow-x:auto;line-height:normal;font-family:Menlo,'DejaVu Sans Mono',consolas,'Courier New',monospace\"><span style=\"font-weight: bold\"> Non-trainable params: </span><span style=\"color: #00af00; text-decoration-color: #00af00\">240</span> (960.00 B)\n",
              "</pre>\n"
            ]
          },
          "metadata": {}
        }
      ],
      "source": [
        "from tensorflow.keras.layers import BatchNormalization,MaxPooling2D,Dropout\n",
        "from tensorflow.keras import regularizers\n",
        "\n",
        "\n",
        "# We need to give the input shape (i.e. our image shape) to our model\n",
        "input_shape = test_images[0].shape\n",
        "print(\"Input shape\", input_shape)\n",
        "\n",
        "# The Keras model will be the simplest Keras model for NN networks.\n",
        "# It is a single stack of layers connected sequentially.\n",
        "model = Sequential([\n",
        "\n",
        "# First Convolutional Layer\n",
        "Conv2D(filters=8, kernel_size=(5, 5), padding='same', activation='relu', input_shape=input_shape,kernel_regularizer=regularizers.l2(0.01)),\n",
        "BatchNormalization(),\n",
        "MaxPooling2D(pool_size=(2, 2), strides=(2, 2)),\n",
        "\n",
        "\n",
        "# Second Convolutional Layer\n",
        "Conv2D(filters=16, kernel_size=(5, 5), padding='same', activation='relu',kernel_regularizer=regularizers.l2(0.01)),\n",
        "BatchNormalization(),\n",
        "MaxPooling2D(pool_size=(2, 2), strides=(2, 2)),\n",
        "\n",
        "\n",
        "# Third Convolutional Layer\n",
        "Conv2D(filters=32, kernel_size=(5, 5), padding='same', activation='relu',kernel_regularizer=regularizers.l2(0.01)),\n",
        "BatchNormalization(),\n",
        "MaxPooling2D(pool_size=(2, 2), strides=(2, 2)),\n",
        "\n",
        "\n",
        "# Fourth Convolutional Layer\n",
        "Conv2D(filters=64, kernel_size=(5, 5), padding='same', activation='relu',kernel_regularizer=regularizers.l2(0.01)),\n",
        "BatchNormalization(),\n",
        "MaxPooling2D(pool_size=(2, 2), strides=(2, 2)),\n",
        "\n",
        "\n",
        "# Flatten the input. This prepares the vector for fully connected layers.\n",
        "Flatten(),\n",
        "\n",
        "# Add a hidden Dense layer\n",
        "Dense(units=64, activation='relu'),\n",
        "\n",
        "# Dropout layer to prevent overfitting\n",
        "Dropout(0.5),\n",
        "\n",
        "# Add a an output layer. The output space is the number of classes\n",
        "#    Softmax makes the output as probablity vector of the different classes\n",
        "Dense(units=num_classes, activation='softmax')\n",
        "\n",
        "])\n",
        "\n",
        "model.summary()"
      ]
    },
    {
      "cell_type": "markdown",
      "metadata": {
        "id": "SkO4SAwHnyYy"
      },
      "source": [
        "## Analysis\n",
        "In this part, we experimented with different configurations of the model to improve its test accuracy, balancing model complexity and generalization. Below is a summary of key experiments and their findings\n",
        "\n",
        "\n",
        "\n",
        "1.   Optimal Number of Convolution Layers\n",
        "Four convolution layers provided the best balance between model complexity and performance. Adding more layers resulted in only marginal improvements in accuracy while increasing the risk of overfitting.\n",
        "\n",
        "2.   Selection of Kernels/Nodes\n",
        "Investigated the use of kernels with increasing filters (e.g., 8, 16, 32, 64)\n",
        "A strategy of incrementally increasing the number of filters across layers helped avoid excessive parameters in shallow layers.\n",
        "\n",
        "3.   Kernel Size (e.g., 5x5)\n",
        "Used larger kernel sizes (e.g., 5x5) in the initial convolutional layer.\n",
        "Increasing the kernel size reduced overfitting and slightly improved test accuracy.\n",
        "Larger kernels captured more spatial context early in the network, leading to better feature extraction.\n",
        "\n",
        "4.   Overtraining and Early Stopping\n",
        "Applied early stopping to halt training when the validation loss stopped improving for a predefined patience period (5 epochs).\n",
        "Training continued up to 30 epochs with early stopping triggered at epoch 13.\n",
        "\n",
        "Results:\n",
        "Epoch 8 (Early Stopping):\n",
        "Validation Accuracy: 91.17%\n",
        "Validation Loss: 0.2618\n",
        "Test Accuracy: 90.7%\n",
        "Epoch 13 (Continued Training):\n",
        "Validation Accuracy: 90.89%\n",
        "Validation Loss: 0.2908\n",
        "Test Accuracy: Slightly lower than epoch 8.\n",
        "\n",
        "Early stopping effectively mitigated overfitting, resulting in better test accuracy compared to continued training. Training beyond epoch 8 led to higher validation loss and slightly reduced generalization.\n",
        "\n",
        "\n",
        "\n"
      ]
    },
    {
      "cell_type": "markdown",
      "metadata": {
        "id": "16laA0zooDgv"
      },
      "source": [
        "# Exercise Part 2a - interrupted exercise\n",
        "Start from your best model that you obtained in part 1 and for it implement  \"early stopping\" as a way to prevent overtraining. [See Geron p. 162 for \"Early Stopping\"]\n",
        "\n",
        "You need to define a \"callback\" which is then included in the call to model.fit: *es=keras.callbacks.EarlyStopping('val_loss', patience=3, restore_best_weights = True)*\n",
        "\n",
        "*model.fit(\n",
        " train_images, to_categorical(train_labels),\n",
        " epochs=epochs,\n",
        " batch_size=batch_size,\n",
        " **callbacks=[es]**,\n",
        " validation_data=(val_images, to_categorical(val_labels))\n",
        ")*\n",
        "\n",
        "It is important to use restore_best_weights=True if you use patience>0, because otherwise you get the last model, already overtrained model, instead of the best model."
      ]
    },
    {
      "cell_type": "code",
      "execution_count": null,
      "metadata": {
        "id": "FzAEQvOmoE6N"
      },
      "outputs": [],
      "source": [
        "#the EarlyStopping callback\n",
        "es = tf.keras.callbacks.EarlyStopping(\n",
        "    monitor='val_loss',             # Monitor validation loss\n",
        "    patience=5,                     # Increase patience to 5\n",
        "    min_delta=0.001,                # Minimum change to consider as improvement\n",
        "    restore_best_weights=True,      # Restore the b0est model weights\n",
        "    verbose=1\n",
        ")"
      ]
    },
    {
      "cell_type": "markdown",
      "metadata": {
        "id": "vaZR15OEJQKs"
      },
      "source": [
        "## Analysis\n",
        "At which Epoch does the training now stop? Does the model's test accuracy change now that it doesn't overtrain?\n",
        "Applied early stopping to halt training when the validation loss stopped improving for a predefined patience period (5 epochs). Training continued up to 30 epochs with early stopping triggered at epoch 13.\n",
        "\n",
        "Results: Epoch 8 (Early Stopping): Validation Accuracy: 91.17% Validation Loss: 0.2618 Test Accuracy: 90.7% Epoch 13 (Continued Training): Validation Accuracy: 90.89% Validation Loss: 0.2908 Test Accuracy: Slightly lower than epoch 8.\n"
      ]
    },
    {
      "cell_type": "markdown",
      "metadata": {
        "id": "xoYoC9KYTLtT"
      },
      "source": [
        "# Exercise Part 2b Other forms of regularization\n"
      ]
    },
    {
      "cell_type": "markdown",
      "metadata": {
        "id": "n0PXMFPccvP8"
      },
      "source": [
        "Start from your best model that you came up with in part 1 but use early stopping. Now you will create a model that uses regularization, e.g. drop-out or batch normalization. Analyze and compare these models (with and without regularization) by noting their test accuracy and plotting the training and validation accuracy and loss, also make note if an improvement can be observed with regularization. How many Epochs do you use for training? [See Geron p. 367 for \"Batch Normalization\"; p 392.. \"Avoiding Overfitting Through Regularization\"]"
      ]
    },
    {
      "cell_type": "code",
      "execution_count": null,
      "metadata": {
        "id": "xx3Il_R3TAjl"
      },
      "outputs": [],
      "source": [
        "# Code where you introduce regularization\n",
        "\n",
        "#I have used L2 regulirization in the code"
      ]
    },
    {
      "cell_type": "markdown",
      "metadata": {
        "id": "Ctk9BAgVIUCD"
      },
      "source": [
        "## Analysis\n",
        "Analyze and compare your models (with and without regularization) by noting their testing accuracy and plotting the training and validation accuracy  and loss, and note if an improvement can be observed with regularization. How many Epochs do you use for training?\n",
        "\n",
        "\n",
        "\n",
        "1.   Model without Regularization (Initial Experiment)\n",
        "A convolutional neural network (CNN) was used with multiple convolution layers, each followed by MaxPooling2D layers.\n",
        "The model was allowed to run for 30 epochs.\n",
        "Early stopping was not applied in this setup.\n",
        "Test Accuracy: 89.6%\n",
        "\n",
        "\n",
        "*   The model achieved 89.6% test accuracy, but it suffered from overfitting after around 15 epochs, as evidenced by the increasing gap between training and validation performance.\n",
        "*   This model had higher accuracy on training data but didn't generalize well to unseen data, leading to a higher likelihood of poor performance on real-world data.\n",
        "\n",
        "\n",
        "\n",
        "2.   Model with L2 Regularization and Early Stopping (Second Experiment)\n",
        "The same CNN architecture, but with L2 regularization applied to dense layers.\n",
        "Training was allowed for 30 epochs, but early stopping was used with patience of 5 epochs.\n",
        "Test Accuracy: 88.7% after early stopping.\n",
        "\n",
        "\n",
        "\n",
        "*   The test accuracy dropped slightly to 88.7% compared to the non-regularized model.\n",
        "*   However, it demonstrated better generalization due to the regularization technique, which controlled overfitting. Early stopping helped prevent excessive training and avoided wasting computational resources.he validation performance was more stable and less prone to overfitting, indicating that regularization is beneficial for long-term model performance on unseen data.\n",
        "\n",
        "\n",
        "\n",
        "\n",
        "\n",
        "\n",
        "\n",
        "\n"
      ]
    },
    {
      "cell_type": "markdown",
      "metadata": {
        "id": "ominqognCKQ0"
      },
      "source": [
        "# Other Hyperparameters\n",
        "There are a number of other important parameters that one may need to adjust. But several of them are connected, so you need to work with different models and data to get a good feel for them. [See Geron p. 351.., for  \"Learning Rate, Batch Size, and Other Hyperparameters\"; pg 379..  \"Faster optimizers\"]\n",
        "* Batch size / batch size -- A larger value here can give the GPU more parallelism to work with, i.e. faster, but too large a value can cause memory problems in the GPU and also make learning slower (however, you can also have larger LR in that case.\n",
        "* Optimizer -- A common and good optimizer is Adam (it's also quite insensitive to what learning rate it starts with, which makes the sword merge well). While sgd is a more \"native\" optimizer.\n",
        "* Learning rate (LR) -- Important parameter for how fast the model trains, but too large a speed can result in unstable training."
      ]
    },
    {
      "cell_type": "markdown",
      "metadata": {
        "id": "H-7dDWzwGH9c"
      },
      "source": [
        "# Exercise Part 2c\n",
        "Change the optimizer from adam to sgd (with regularization and early stopping). Compare the training procedure between the two optimizers (difference in test accuracy, which epoch did the training stop, etc.?). Note that you might need to increase the number of maximum number of epochs if it slow to converge."
      ]
    },
    {
      "cell_type": "code",
      "execution_count": null,
      "metadata": {
        "id": "7MeBdyzAHiCX"
      },
      "outputs": [],
      "source": [
        "# Your code for a run with sgd as optimizer\n",
        "# Compile the model, as a preparation for training\n",
        "model.compile(\n",
        "  optimizer='sgd',\n",
        "  loss='categorical_crossentropy',\n",
        "  metrics=['categorical_accuracy']\n",
        ")"
      ]
    },
    {
      "cell_type": "markdown",
      "metadata": {
        "id": "5GlMUhG_6suw"
      },
      "source": [
        "Epoch 16: early stopping\n",
        "Restoring model weights from the end of the best epoch: 11.\n",
        "The model is undertrain with test accuracy of 89%\n",
        "\n",
        "\n",
        "\n",
        "1.   Training Procedure with SGD Optimizer\n",
        "Test Accuracy\t89%\n",
        "Epochs Trained\t16 (early stopping)\n",
        "Final Validation Accuracy\t89.0%\n",
        "Final Validation Loss\t0.4560\n",
        "Overfitting\tModerate, early stopping helped limit overfitting.\n",
        "Generalization\tLess effective compared to Adam, requiring more epochs to converge.\n",
        "\n",
        "2.   Training Procedure with Adam Optimizer\n",
        "Test Accuracy\t88%\n",
        "Epochs Trained\t25 (early stopping)\n",
        "Final Validation Accuracy\t89.41%\n",
        "Final Validation Loss\t0.4279\n",
        "Overfitting\tMinimal, with early stopping preventing excessive training.\n",
        "Generalization\tGood generalization despite slight drop in accuracy compared to training performance.\n",
        "\n",
        "Adam is the preferred optimizer due to its faster convergence and ability to achieve higher test accuracy.\n",
        "\n"
      ]
    },
    {
      "cell_type": "markdown",
      "metadata": {
        "id": "d7QvZC8ONS95"
      },
      "source": [
        "# Del 3 Auto tune\n",
        "\n",
        "*   List item\n",
        "*   List item\n",
        "\n",
        "\n",
        "Here we test on of the hyperparameter optimizers called Keras Tuner. Documentation can be found here: https://keras-team.github.io/keras-tuner/"
      ]
    },
    {
      "cell_type": "code",
      "execution_count": null,
      "metadata": {
        "colab": {
          "base_uri": "https://localhost:8080/"
        },
        "id": "mCL16yCINhVS",
        "outputId": "2fd40bd5-14dd-4c8a-fdf9-8b0f891fbdaa"
      },
      "outputs": [
        {
          "output_type": "stream",
          "name": "stdout",
          "text": [
            "\u001b[?25l   \u001b[90m━━━━━━━━━━━━━━━━━━━━━━━━━━━━━━━━━━━━━━━━\u001b[0m \u001b[32m0.0/129.1 kB\u001b[0m \u001b[31m?\u001b[0m eta \u001b[36m-:--:--\u001b[0m\r\u001b[2K   \u001b[90m━━━━━━━━━━━━━━━━━━━━━━━━━━━━━━━━━━━━━━━━\u001b[0m \u001b[32m129.1/129.1 kB\u001b[0m \u001b[31m10.4 MB/s\u001b[0m eta \u001b[36m0:00:00\u001b[0m\n",
            "\u001b[?25hKeras Tuner version: 1.4.7\n"
          ]
        }
      ],
      "source": [
        "# Get Keras Tuner (if in colab or kaggle)\n",
        "if (IS_COLAB or IS_KAGGLE):\n",
        "  !pip install keras_tuner -q\n",
        "\n",
        "import keras_tuner\n",
        "print('Keras Tuner version:', keras_tuner.__version__)\n",
        "\n",
        "# Get some tuner search functions\n",
        "from keras_tuner.tuners import BayesianOptimization"
      ]
    },
    {
      "cell_type": "markdown",
      "metadata": {
        "id": "PVNB09pdRwo1"
      },
      "source": [
        "## Sample model (you will then make your own!)"
      ]
    },
    {
      "cell_type": "code",
      "execution_count": null,
      "metadata": {
        "colab": {
          "base_uri": "https://localhost:8080/",
          "height": 215
        },
        "id": "DkN7ntftOVQi",
        "outputId": "1390bf2a-c6f5-4dba-a178-e62dc95873df"
      },
      "outputs": [
        {
          "output_type": "error",
          "ename": "NameError",
          "evalue": "name 'hp' is not defined",
          "traceback": [
            "\u001b[0;31m---------------------------------------------------------------------------\u001b[0m",
            "\u001b[0;31mNameError\u001b[0m                                 Traceback (most recent call last)",
            "\u001b[0;32m<ipython-input-19-5b82618b3c0d>\u001b[0m in \u001b[0;36m<cell line: 42>\u001b[0;34m()\u001b[0m\n\u001b[1;32m     40\u001b[0m   ])\n\u001b[1;32m     41\u001b[0m \u001b[0;34m\u001b[0m\u001b[0m\n\u001b[0;32m---> 42\u001b[0;31m model.compile(optimizer=keras.optimizers.Adam(hp.Choice('learning_rate', values=[1e-2, 1e-3])),\n\u001b[0m\u001b[1;32m     43\u001b[0m               \u001b[0mloss\u001b[0m\u001b[0;34m=\u001b[0m\u001b[0;34m'sparse_categorical_crossentropy'\u001b[0m\u001b[0;34m,\u001b[0m\u001b[0;34m\u001b[0m\u001b[0;34m\u001b[0m\u001b[0m\n\u001b[1;32m     44\u001b[0m               metrics=['accuracy'])\n",
            "\u001b[0;31mNameError\u001b[0m: name 'hp' is not defined"
          ]
        }
      ],
      "source": [
        "# This is a straight forward CNN model to decently solve Fashion MNIST\n",
        "# Note that we have no regularisation for this example!\n",
        "# It can at least achieve 92% accuracy for me, with the parameters found:\n",
        "# conv_1_filter =  96, conv_1_kernel =   5,\n",
        "# conv_2_filter =  48, conv_2_kernel =   5\n",
        "# dense_1_units =  128\n",
        "# learning_rate = 0.001\n",
        "# batch_size = 320\n",
        "\n",
        "def build_model_2Conv1Dense(hp):\n",
        "  model = keras.Sequential([\n",
        "    # First Convolutional Layer\n",
        "    keras.layers.Conv2D(\n",
        "        filters=hp.Int('conv_1_filter', min_value=32, max_value=256, step=32),\n",
        "        kernel_size=hp.Choice('conv_1_kernel', values = [3,5]),\n",
        "        activation='relu',\n",
        "        padding='same',\n",
        "        input_shape=(28,28,1)\n",
        "    ),\n",
        "    keras.layers.BatchNormalization(),\n",
        "\n",
        "    # Second Convolutional Layer\n",
        "    keras.layers.Conv2D(\n",
        "        filters=hp.Int('conv_2_filter', min_value=32, max_value=256, step=32),\n",
        "        kernel_size=hp.Choice('conv_2_kernel', values = [3,5]),\n",
        "        activation='relu',\n",
        "        padding='same'\n",
        "    ),\n",
        "    keras.layers.MaxPooling2D(pool_size=(2, 2), strides=(2,2)),\n",
        "\n",
        "    # A First Dense Layer\n",
        "    keras.layers.Flatten(),\n",
        "    keras.layers.Dense(\n",
        "        units=hp.Int('dense_1_units', min_value=32, max_value=256, step=32),\n",
        "        activation='relu'\n",
        "    ),\n",
        "\n",
        "    # A Final Dense Layer\n",
        "    keras.layers.Dense(10, activation='softmax')\n",
        "  ])\n",
        "\n",
        "model.compile(optimizer=keras.optimizers.Adam(hp.Choice('learning_rate', values=[1e-2, 1e-3])),\n",
        "              loss='sparse_categorical_crossentropy',\n",
        "              metrics=['accuracy'])\n",
        "\n",
        "return model"
      ]
    },
    {
      "cell_type": "markdown",
      "metadata": {
        "id": "evRPRGRkOmpm"
      },
      "source": [
        "# Exercise 3: Code to instrument your own model to be optimized with Keras Tuner\n",
        "Start from your best model that you obtained in part 2 and instrument it to be optimized with Keras Tuner."
      ]
    },
    {
      "cell_type": "code",
      "execution_count": null,
      "metadata": {
        "id": "3Haf7S-sOzKs"
      },
      "outputs": [],
      "source": [
        "from tensorflow.keras import layers\n",
        "from tensorflow.keras import regularizers  # For L2 regularization\n",
        "\n",
        "def build_model_2Conv1Dense(hp):\n",
        "    model = keras.Sequential()\n",
        "        # First Convolutional Layer\n",
        "    model.add(layers.Conv2D(\n",
        "        filters=hp.Int('conv_1_filter', min_value=32, max_value=256, step=32),\n",
        "        kernel_size=hp.Choice('conv_1_kernel', values=[3, 5]),\n",
        "        activation='relu',\n",
        "        padding='same',\n",
        "        input_shape=(28, 28, 1)\n",
        "    ))\n",
        "    model.add(layers.BatchNormalization())\n",
        "    model.add(layers.MaxPooling2D(pool_size=(2, 2)))\n",
        "\n",
        "    # Second Convolutional Layer\n",
        "    model.add(layers.Conv2D(\n",
        "        filters=hp.Int('conv_2_filter', min_value=32, max_value=256, step=32),\n",
        "        kernel_size=hp.Choice('conv_2_kernel', values=[3, 5]),\n",
        "        activation='relu',\n",
        "        padding='same'\n",
        "    ))\n",
        "    model.add(layers.BatchNormalization())\n",
        "    model.add(layers.MaxPooling2D(pool_size=(2, 2), strides=(2, 2)))\n",
        "\n",
        "    # Third Convolutional Layer\n",
        "    model.add(layers.Conv2D(\n",
        "        filters=hp.Int('filters_3', min_value=32, max_value=256, step=32),\n",
        "        kernel_size=hp.Choice('kernel_size_3', values=[3, 5]),\n",
        "        activation='relu'\n",
        "    ))\n",
        "    model.add(layers.BatchNormalization())\n",
        "    model.add(layers.MaxPooling2D(pool_size=(2, 2)))\n",
        "\n",
        "    # A First Dense Layer\n",
        "    model.add(layers.Flatten()),\n",
        "    model.add(layers.Dense(\n",
        "        units=hp.Int('dense_1_units', min_value=32, max_value=256, step=32),\n",
        "        activation='relu',\n",
        "        kernel_regularizer=regularizers.l2(0.01)\n",
        "    ))\n",
        "\n",
        "    # Final Output Layer\n",
        "    model.add(layers.Dense(10, activation='softmax'))\n",
        "\n",
        " # Compile the model\n",
        "    model.compile(\n",
        "        optimizer=keras.optimizers.Adam(\n",
        "            hp.Choice('learning_rate', values=[1e-2, 1e-3])\n",
        "        ),\n",
        "        loss='sparse_categorical_crossentropy',\n",
        "        metrics=['accuracy']\n",
        "    )\n",
        "\n",
        "    return model"
      ]
    },
    {
      "cell_type": "markdown",
      "metadata": {
        "id": "RGMc2PtqWeoY"
      },
      "source": [
        "# Do the actual search, based on a BayesianOptimization\n",
        "Widely-used tuning algorithms: RandomSearch, BayesianOptimization and Hyperband. Here we will use BayesianOptimization.\n",
        "\n",
        "But note that there is a parameter *num_initial_points* to BayesianOptimization which state the number of randomly generated samples as initial training data for Bayesian optimization. If left unspecified, a value of 3 times the dimensionality of the hyperparameter space is used. That is, we might only use random search if we have too few trails."
      ]
    },
    {
      "cell_type": "code",
      "execution_count": null,
      "metadata": {
        "id": "10H7acwkPOpB"
      },
      "outputs": [],
      "source": [
        "# To get more stable results we are repeating the runs two times for each parameter setup\n",
        "MAX_TRIALS = 20         # represents the number of hyperparameter combinations that will be tested by the tuner\n",
        "EXECUTION_PER_TRIAL = 1 # the number of models that should be built and fit for each trial for robustness purposes"
      ]
    },
    {
      "cell_type": "code",
      "execution_count": null,
      "metadata": {
        "id": "mw62ioE_PQKZ"
      },
      "outputs": [],
      "source": [
        "# To have batch_size as a hyperparameter we need to define our own tuner\n",
        "# In this case, we are basing it on the BayesianOptimization tuner found in\n",
        "# https://keras-team.github.io/keras-tuner/documentation/tuners/#bayesianoptimization-class\n",
        "class MyTuner(keras_tuner.tuners.BayesianOptimization):\n",
        "  def run_trial(self, trial, *args, **kwargs):\n",
        "    # You can add additional HyperParameters for preprocessing and custom training loops\n",
        "    # via overriding `run_trial`\n",
        "    kwargs['batch_size'] = trial.hyperparameters.Int('batch_size', 32, 512, step=32, default=256)\n",
        "    return super(MyTuner, self).run_trial(trial, *args, **kwargs)"
      ]
    },
    {
      "cell_type": "code",
      "execution_count": null,
      "metadata": {
        "id": "tMC8hgl3PZpI"
      },
      "outputs": [],
      "source": [
        "# Bayesian search which also searches for batch_size\n",
        "tuner = MyTuner(\n",
        "    build_model_2Conv1Dense, ##### Laboration: Change this to 'build_model_MyModel' #####\n",
        "    max_trials=MAX_TRIALS,\n",
        "    objective='val_accuracy',\n",
        "    executions_per_trial=EXECUTION_PER_TRIAL,\n",
        "    directory='output',\n",
        "    overwrite=True,\n",
        "    num_initial_points=10, # Start with 10 random points and then do more structured search\n",
        "    project_name='FashionMNIST'\n",
        ")\n"
      ]
    },
    {
      "cell_type": "markdown",
      "metadata": {
        "id": "7AqPBQEPfCw1"
      },
      "source": [
        "# Help it takes so much time!\n",
        "Yes, doing a parameter search takes time! Using a T4 this search takes 50 minutes (while a RTX 3090 takes 10 minutes), and if your model is more complicated it can take even more time. To handle this you could try setting EXECUTION_PER_TRIAL=1, even if the search becomes more instable. You can also try to run in phases, do a first run with EXECUTION_PER_TRIAL=1 and even noepochauto = 4 or 5, to get a feeling for good parameter limits and starting points (setting things like \"default=128\" in the hp.Int() call) for your variables, and maybe even lock some variables (like LR?). And then do a more focused search where you maybe try EXECUTION_PER_TRIAL=2, noepochauto = 6 or 7 for a smaller number of MAX_TRIALS.\n",
        "\n",
        "If you do such multiphase process, please document it well!"
      ]
    },
    {
      "cell_type": "markdown",
      "metadata": {
        "id": "undWnsjZrRPA"
      },
      "source": [
        "### To run this in Keras 3.0, one needs a KerasTuner of version 1.4.7 or later\n",
        "* Earlier version was not working as reported by me here: https://github.com/keras-team/keras-tuner/issues/963\n",
        "\n"
      ]
    },
    {
      "cell_type": "code",
      "execution_count": null,
      "metadata": {
        "colab": {
          "base_uri": "https://localhost:8080/"
        },
        "id": "gEDRhLr8PdfO",
        "outputId": "92bd424a-e3e8-47a5-b783-5c11d8a63431"
      },
      "outputs": [
        {
          "output_type": "stream",
          "name": "stdout",
          "text": [
            "Trial 20 Complete [00h 01m 05s]\n",
            "val_accuracy: 0.9097499847412109\n",
            "\n",
            "Best val_accuracy So Far: 0.9240000247955322\n",
            "Total elapsed time: 00h 21m 47s\n"
          ]
        }
      ],
      "source": [
        "# Do the hyperparameter search\n",
        "# I set the no of epochs to 6 to speed up the search in this excersise, better would have been 10\n",
        "noepochauto = 6   ## Max number of epochs per trail (but we have early stopping so this max is probably not reached)\n",
        "es = keras.callbacks.EarlyStopping('val_loss', patience=2, restore_best_weights = True)\n",
        "# Note we do not need to_catagorical as we use loss='sparse_categorical_crossentropy'\n",
        "tuner.search(train_images, train_labels,\n",
        "             epochs=noepochauto,\n",
        "             validation_data=(val_images, val_labels),\n",
        "             callbacks=[es])"
      ]
    },
    {
      "cell_type": "code",
      "execution_count": null,
      "metadata": {
        "id": "n-VT_1v8PsjH",
        "colab": {
          "base_uri": "https://localhost:8080/",
          "height": 790
        },
        "outputId": "cd9f354e-530d-434e-9bb1-11a8f5176aa8"
      },
      "outputs": [
        {
          "output_type": "stream",
          "name": "stdout",
          "text": [
            "       conv_1_filter =  96\n",
            "       conv_1_kernel =   3\n",
            "       conv_2_filter =  96\n",
            "       conv_2_kernel =   5\n",
            "           filters_3 = 224\n",
            "       kernel_size_3 =   5\n",
            "       dense_1_units = 160\n",
            "       learning_rate = 0.001\n",
            "          batch_size =  32\n"
          ]
        },
        {
          "output_type": "stream",
          "name": "stderr",
          "text": [
            "/usr/local/lib/python3.10/dist-packages/keras/src/saving/saving_lib.py:713: UserWarning: Skipping variable loading for optimizer 'adam', because it has 2 variables whereas the saved optimizer has 34 variables. \n",
            "  saveable.load_own_variables(weights_store.get(inner_path))\n"
          ]
        },
        {
          "output_type": "display_data",
          "data": {
            "text/plain": [
              "\u001b[1mModel: \"sequential\"\u001b[0m\n"
            ],
            "text/html": [
              "<pre style=\"white-space:pre;overflow-x:auto;line-height:normal;font-family:Menlo,'DejaVu Sans Mono',consolas,'Courier New',monospace\"><span style=\"font-weight: bold\">Model: \"sequential\"</span>\n",
              "</pre>\n"
            ]
          },
          "metadata": {}
        },
        {
          "output_type": "display_data",
          "data": {
            "text/plain": [
              "┏━━━━━━━━━━━━━━━━━━━━━━━━━━━━━━━━━━━━━━┳━━━━━━━━━━━━━━━━━━━━━━━━━━━━━┳━━━━━━━━━━━━━━━━━┓\n",
              "┃\u001b[1m \u001b[0m\u001b[1mLayer (type)                        \u001b[0m\u001b[1m \u001b[0m┃\u001b[1m \u001b[0m\u001b[1mOutput Shape               \u001b[0m\u001b[1m \u001b[0m┃\u001b[1m \u001b[0m\u001b[1m        Param #\u001b[0m\u001b[1m \u001b[0m┃\n",
              "┡━━━━━━━━━━━━━━━━━━━━━━━━━━━━━━━━━━━━━━╇━━━━━━━━━━━━━━━━━━━━━━━━━━━━━╇━━━━━━━━━━━━━━━━━┩\n",
              "│ conv2d (\u001b[38;5;33mConv2D\u001b[0m)                      │ (\u001b[38;5;45mNone\u001b[0m, \u001b[38;5;34m28\u001b[0m, \u001b[38;5;34m28\u001b[0m, \u001b[38;5;34m96\u001b[0m)          │             \u001b[38;5;34m960\u001b[0m │\n",
              "├──────────────────────────────────────┼─────────────────────────────┼─────────────────┤\n",
              "│ batch_normalization                  │ (\u001b[38;5;45mNone\u001b[0m, \u001b[38;5;34m28\u001b[0m, \u001b[38;5;34m28\u001b[0m, \u001b[38;5;34m96\u001b[0m)          │             \u001b[38;5;34m384\u001b[0m │\n",
              "│ (\u001b[38;5;33mBatchNormalization\u001b[0m)                 │                             │                 │\n",
              "├──────────────────────────────────────┼─────────────────────────────┼─────────────────┤\n",
              "│ max_pooling2d (\u001b[38;5;33mMaxPooling2D\u001b[0m)         │ (\u001b[38;5;45mNone\u001b[0m, \u001b[38;5;34m14\u001b[0m, \u001b[38;5;34m14\u001b[0m, \u001b[38;5;34m96\u001b[0m)          │               \u001b[38;5;34m0\u001b[0m │\n",
              "├──────────────────────────────────────┼─────────────────────────────┼─────────────────┤\n",
              "│ conv2d_1 (\u001b[38;5;33mConv2D\u001b[0m)                    │ (\u001b[38;5;45mNone\u001b[0m, \u001b[38;5;34m14\u001b[0m, \u001b[38;5;34m14\u001b[0m, \u001b[38;5;34m96\u001b[0m)          │         \u001b[38;5;34m230,496\u001b[0m │\n",
              "├──────────────────────────────────────┼─────────────────────────────┼─────────────────┤\n",
              "│ batch_normalization_1                │ (\u001b[38;5;45mNone\u001b[0m, \u001b[38;5;34m14\u001b[0m, \u001b[38;5;34m14\u001b[0m, \u001b[38;5;34m96\u001b[0m)          │             \u001b[38;5;34m384\u001b[0m │\n",
              "│ (\u001b[38;5;33mBatchNormalization\u001b[0m)                 │                             │                 │\n",
              "├──────────────────────────────────────┼─────────────────────────────┼─────────────────┤\n",
              "│ max_pooling2d_1 (\u001b[38;5;33mMaxPooling2D\u001b[0m)       │ (\u001b[38;5;45mNone\u001b[0m, \u001b[38;5;34m7\u001b[0m, \u001b[38;5;34m7\u001b[0m, \u001b[38;5;34m96\u001b[0m)            │               \u001b[38;5;34m0\u001b[0m │\n",
              "├──────────────────────────────────────┼─────────────────────────────┼─────────────────┤\n",
              "│ conv2d_2 (\u001b[38;5;33mConv2D\u001b[0m)                    │ (\u001b[38;5;45mNone\u001b[0m, \u001b[38;5;34m3\u001b[0m, \u001b[38;5;34m3\u001b[0m, \u001b[38;5;34m224\u001b[0m)           │         \u001b[38;5;34m537,824\u001b[0m │\n",
              "├──────────────────────────────────────┼─────────────────────────────┼─────────────────┤\n",
              "│ batch_normalization_2                │ (\u001b[38;5;45mNone\u001b[0m, \u001b[38;5;34m3\u001b[0m, \u001b[38;5;34m3\u001b[0m, \u001b[38;5;34m224\u001b[0m)           │             \u001b[38;5;34m896\u001b[0m │\n",
              "│ (\u001b[38;5;33mBatchNormalization\u001b[0m)                 │                             │                 │\n",
              "├──────────────────────────────────────┼─────────────────────────────┼─────────────────┤\n",
              "│ max_pooling2d_2 (\u001b[38;5;33mMaxPooling2D\u001b[0m)       │ (\u001b[38;5;45mNone\u001b[0m, \u001b[38;5;34m1\u001b[0m, \u001b[38;5;34m1\u001b[0m, \u001b[38;5;34m224\u001b[0m)           │               \u001b[38;5;34m0\u001b[0m │\n",
              "├──────────────────────────────────────┼─────────────────────────────┼─────────────────┤\n",
              "│ flatten (\u001b[38;5;33mFlatten\u001b[0m)                    │ (\u001b[38;5;45mNone\u001b[0m, \u001b[38;5;34m224\u001b[0m)                 │               \u001b[38;5;34m0\u001b[0m │\n",
              "├──────────────────────────────────────┼─────────────────────────────┼─────────────────┤\n",
              "│ dense (\u001b[38;5;33mDense\u001b[0m)                        │ (\u001b[38;5;45mNone\u001b[0m, \u001b[38;5;34m160\u001b[0m)                 │          \u001b[38;5;34m36,000\u001b[0m │\n",
              "├──────────────────────────────────────┼─────────────────────────────┼─────────────────┤\n",
              "│ dense_1 (\u001b[38;5;33mDense\u001b[0m)                      │ (\u001b[38;5;45mNone\u001b[0m, \u001b[38;5;34m10\u001b[0m)                  │           \u001b[38;5;34m1,610\u001b[0m │\n",
              "└──────────────────────────────────────┴─────────────────────────────┴─────────────────┘\n"
            ],
            "text/html": [
              "<pre style=\"white-space:pre;overflow-x:auto;line-height:normal;font-family:Menlo,'DejaVu Sans Mono',consolas,'Courier New',monospace\">┏━━━━━━━━━━━━━━━━━━━━━━━━━━━━━━━━━━━━━━┳━━━━━━━━━━━━━━━━━━━━━━━━━━━━━┳━━━━━━━━━━━━━━━━━┓\n",
              "┃<span style=\"font-weight: bold\"> Layer (type)                         </span>┃<span style=\"font-weight: bold\"> Output Shape                </span>┃<span style=\"font-weight: bold\">         Param # </span>┃\n",
              "┡━━━━━━━━━━━━━━━━━━━━━━━━━━━━━━━━━━━━━━╇━━━━━━━━━━━━━━━━━━━━━━━━━━━━━╇━━━━━━━━━━━━━━━━━┩\n",
              "│ conv2d (<span style=\"color: #0087ff; text-decoration-color: #0087ff\">Conv2D</span>)                      │ (<span style=\"color: #00d7ff; text-decoration-color: #00d7ff\">None</span>, <span style=\"color: #00af00; text-decoration-color: #00af00\">28</span>, <span style=\"color: #00af00; text-decoration-color: #00af00\">28</span>, <span style=\"color: #00af00; text-decoration-color: #00af00\">96</span>)          │             <span style=\"color: #00af00; text-decoration-color: #00af00\">960</span> │\n",
              "├──────────────────────────────────────┼─────────────────────────────┼─────────────────┤\n",
              "│ batch_normalization                  │ (<span style=\"color: #00d7ff; text-decoration-color: #00d7ff\">None</span>, <span style=\"color: #00af00; text-decoration-color: #00af00\">28</span>, <span style=\"color: #00af00; text-decoration-color: #00af00\">28</span>, <span style=\"color: #00af00; text-decoration-color: #00af00\">96</span>)          │             <span style=\"color: #00af00; text-decoration-color: #00af00\">384</span> │\n",
              "│ (<span style=\"color: #0087ff; text-decoration-color: #0087ff\">BatchNormalization</span>)                 │                             │                 │\n",
              "├──────────────────────────────────────┼─────────────────────────────┼─────────────────┤\n",
              "│ max_pooling2d (<span style=\"color: #0087ff; text-decoration-color: #0087ff\">MaxPooling2D</span>)         │ (<span style=\"color: #00d7ff; text-decoration-color: #00d7ff\">None</span>, <span style=\"color: #00af00; text-decoration-color: #00af00\">14</span>, <span style=\"color: #00af00; text-decoration-color: #00af00\">14</span>, <span style=\"color: #00af00; text-decoration-color: #00af00\">96</span>)          │               <span style=\"color: #00af00; text-decoration-color: #00af00\">0</span> │\n",
              "├──────────────────────────────────────┼─────────────────────────────┼─────────────────┤\n",
              "│ conv2d_1 (<span style=\"color: #0087ff; text-decoration-color: #0087ff\">Conv2D</span>)                    │ (<span style=\"color: #00d7ff; text-decoration-color: #00d7ff\">None</span>, <span style=\"color: #00af00; text-decoration-color: #00af00\">14</span>, <span style=\"color: #00af00; text-decoration-color: #00af00\">14</span>, <span style=\"color: #00af00; text-decoration-color: #00af00\">96</span>)          │         <span style=\"color: #00af00; text-decoration-color: #00af00\">230,496</span> │\n",
              "├──────────────────────────────────────┼─────────────────────────────┼─────────────────┤\n",
              "│ batch_normalization_1                │ (<span style=\"color: #00d7ff; text-decoration-color: #00d7ff\">None</span>, <span style=\"color: #00af00; text-decoration-color: #00af00\">14</span>, <span style=\"color: #00af00; text-decoration-color: #00af00\">14</span>, <span style=\"color: #00af00; text-decoration-color: #00af00\">96</span>)          │             <span style=\"color: #00af00; text-decoration-color: #00af00\">384</span> │\n",
              "│ (<span style=\"color: #0087ff; text-decoration-color: #0087ff\">BatchNormalization</span>)                 │                             │                 │\n",
              "├──────────────────────────────────────┼─────────────────────────────┼─────────────────┤\n",
              "│ max_pooling2d_1 (<span style=\"color: #0087ff; text-decoration-color: #0087ff\">MaxPooling2D</span>)       │ (<span style=\"color: #00d7ff; text-decoration-color: #00d7ff\">None</span>, <span style=\"color: #00af00; text-decoration-color: #00af00\">7</span>, <span style=\"color: #00af00; text-decoration-color: #00af00\">7</span>, <span style=\"color: #00af00; text-decoration-color: #00af00\">96</span>)            │               <span style=\"color: #00af00; text-decoration-color: #00af00\">0</span> │\n",
              "├──────────────────────────────────────┼─────────────────────────────┼─────────────────┤\n",
              "│ conv2d_2 (<span style=\"color: #0087ff; text-decoration-color: #0087ff\">Conv2D</span>)                    │ (<span style=\"color: #00d7ff; text-decoration-color: #00d7ff\">None</span>, <span style=\"color: #00af00; text-decoration-color: #00af00\">3</span>, <span style=\"color: #00af00; text-decoration-color: #00af00\">3</span>, <span style=\"color: #00af00; text-decoration-color: #00af00\">224</span>)           │         <span style=\"color: #00af00; text-decoration-color: #00af00\">537,824</span> │\n",
              "├──────────────────────────────────────┼─────────────────────────────┼─────────────────┤\n",
              "│ batch_normalization_2                │ (<span style=\"color: #00d7ff; text-decoration-color: #00d7ff\">None</span>, <span style=\"color: #00af00; text-decoration-color: #00af00\">3</span>, <span style=\"color: #00af00; text-decoration-color: #00af00\">3</span>, <span style=\"color: #00af00; text-decoration-color: #00af00\">224</span>)           │             <span style=\"color: #00af00; text-decoration-color: #00af00\">896</span> │\n",
              "│ (<span style=\"color: #0087ff; text-decoration-color: #0087ff\">BatchNormalization</span>)                 │                             │                 │\n",
              "├──────────────────────────────────────┼─────────────────────────────┼─────────────────┤\n",
              "│ max_pooling2d_2 (<span style=\"color: #0087ff; text-decoration-color: #0087ff\">MaxPooling2D</span>)       │ (<span style=\"color: #00d7ff; text-decoration-color: #00d7ff\">None</span>, <span style=\"color: #00af00; text-decoration-color: #00af00\">1</span>, <span style=\"color: #00af00; text-decoration-color: #00af00\">1</span>, <span style=\"color: #00af00; text-decoration-color: #00af00\">224</span>)           │               <span style=\"color: #00af00; text-decoration-color: #00af00\">0</span> │\n",
              "├──────────────────────────────────────┼─────────────────────────────┼─────────────────┤\n",
              "│ flatten (<span style=\"color: #0087ff; text-decoration-color: #0087ff\">Flatten</span>)                    │ (<span style=\"color: #00d7ff; text-decoration-color: #00d7ff\">None</span>, <span style=\"color: #00af00; text-decoration-color: #00af00\">224</span>)                 │               <span style=\"color: #00af00; text-decoration-color: #00af00\">0</span> │\n",
              "├──────────────────────────────────────┼─────────────────────────────┼─────────────────┤\n",
              "│ dense (<span style=\"color: #0087ff; text-decoration-color: #0087ff\">Dense</span>)                        │ (<span style=\"color: #00d7ff; text-decoration-color: #00d7ff\">None</span>, <span style=\"color: #00af00; text-decoration-color: #00af00\">160</span>)                 │          <span style=\"color: #00af00; text-decoration-color: #00af00\">36,000</span> │\n",
              "├──────────────────────────────────────┼─────────────────────────────┼─────────────────┤\n",
              "│ dense_1 (<span style=\"color: #0087ff; text-decoration-color: #0087ff\">Dense</span>)                      │ (<span style=\"color: #00d7ff; text-decoration-color: #00d7ff\">None</span>, <span style=\"color: #00af00; text-decoration-color: #00af00\">10</span>)                  │           <span style=\"color: #00af00; text-decoration-color: #00af00\">1,610</span> │\n",
              "└──────────────────────────────────────┴─────────────────────────────┴─────────────────┘\n",
              "</pre>\n"
            ]
          },
          "metadata": {}
        },
        {
          "output_type": "display_data",
          "data": {
            "text/plain": [
              "\u001b[1m Total params: \u001b[0m\u001b[38;5;34m808,554\u001b[0m (3.08 MB)\n"
            ],
            "text/html": [
              "<pre style=\"white-space:pre;overflow-x:auto;line-height:normal;font-family:Menlo,'DejaVu Sans Mono',consolas,'Courier New',monospace\"><span style=\"font-weight: bold\"> Total params: </span><span style=\"color: #00af00; text-decoration-color: #00af00\">808,554</span> (3.08 MB)\n",
              "</pre>\n"
            ]
          },
          "metadata": {}
        },
        {
          "output_type": "display_data",
          "data": {
            "text/plain": [
              "\u001b[1m Trainable params: \u001b[0m\u001b[38;5;34m807,722\u001b[0m (3.08 MB)\n"
            ],
            "text/html": [
              "<pre style=\"white-space:pre;overflow-x:auto;line-height:normal;font-family:Menlo,'DejaVu Sans Mono',consolas,'Courier New',monospace\"><span style=\"font-weight: bold\"> Trainable params: </span><span style=\"color: #00af00; text-decoration-color: #00af00\">807,722</span> (3.08 MB)\n",
              "</pre>\n"
            ]
          },
          "metadata": {}
        },
        {
          "output_type": "display_data",
          "data": {
            "text/plain": [
              "\u001b[1m Non-trainable params: \u001b[0m\u001b[38;5;34m832\u001b[0m (3.25 KB)\n"
            ],
            "text/html": [
              "<pre style=\"white-space:pre;overflow-x:auto;line-height:normal;font-family:Menlo,'DejaVu Sans Mono',consolas,'Courier New',monospace\"><span style=\"font-weight: bold\"> Non-trainable params: </span><span style=\"color: #00af00; text-decoration-color: #00af00\">832</span> (3.25 KB)\n",
              "</pre>\n"
            ]
          },
          "metadata": {}
        }
      ],
      "source": [
        "# Get the best model so far\n",
        "model = tuner.get_best_models(num_models=1)[0]\n",
        "# Dump the best hyperparameters found\n",
        "vals = tuner.get_best_hyperparameters(num_trials=5)[0].values\n",
        "for keys,values in vals.items():\n",
        "    print('%20s = %3.4g' %(keys,values))\n",
        "\n",
        "model.summary()"
      ]
    },
    {
      "cell_type": "code",
      "execution_count": null,
      "metadata": {
        "id": "Qoom8_ADRJ87",
        "colab": {
          "base_uri": "https://localhost:8080/"
        },
        "outputId": "c8b566ce-f90e-43b4-dc63-61b7f7e0f4e7"
      },
      "outputs": [
        {
          "output_type": "stream",
          "name": "stdout",
          "text": [
            "\u001b[1m313/313\u001b[0m \u001b[32m━━━━━━━━━━━━━━━━━━━━\u001b[0m\u001b[37m\u001b[0m \u001b[1m2s\u001b[0m 5ms/step - accuracy: 0.9170 - loss: 0.2843\n",
            "Test accuracy: 0.921\n"
          ]
        }
      ],
      "source": [
        "# Evaluate the model.\n",
        "test_loss, test_acc = model.evaluate(test_images,test_labels)\n",
        "print('Test accuracy: %.3f' % test_acc)"
      ]
    },
    {
      "cell_type": "markdown",
      "metadata": {
        "id": "PxuExn6aP3RB"
      },
      "source": [
        "## Code to explore the n-best models"
      ]
    },
    {
      "cell_type": "code",
      "execution_count": null,
      "metadata": {
        "id": "V98UosuJQB83",
        "colab": {
          "base_uri": "https://localhost:8080/"
        },
        "outputId": "af3de91f-bd8b-459c-f047-5e49c0ede6b5"
      },
      "outputs": [
        {
          "output_type": "stream",
          "name": "stdout",
          "text": [
            "Test accuracy   conv_1_filter   conv_1_kernel   conv_2_filter   conv_2_kernel       filters_3   kernel_size_3   dense_1_units   learning_rate      batch_size \n",
            "\n",
            "          0.921              96               3              96               5             224               5             160           0.001              32 \n",
            "          0.912              32               3              96               5             192               5             160           0.001              32 \n",
            "          0.911              64               5              96               5             256               5             128           0.001             224 \n",
            "          0.910             128               3             128               5             256               5             192           0.001              64 \n",
            "          0.903             128               3              96               5             256               5              64           0.001              64 \n"
          ]
        }
      ],
      "source": [
        "# Let us dump the n-best\n",
        "\n",
        "if True:\n",
        "  explorenbest = 5\n",
        "\n",
        "  # Suppress warnings about optimizer state not being restored by keras.\n",
        "  tf.get_logger().setLevel('ERROR')\n",
        "\n",
        "  # Print a heading\n",
        "  vals = tuner.get_best_hyperparameters(num_trials=explorenbest)[0].values\n",
        "  print('Test accuracy ', end = '')\n",
        "  for keys,values in vals.items():\n",
        "      print('%15s ' %(keys), end = '')\n",
        "  print('\\n')\n",
        "\n",
        "  # Now print each trail on a seperate row from best to worst\n",
        "  for ix in range(0,explorenbest):\n",
        "    # evaluate this trail\n",
        "    model = tuner.get_best_models(num_models=explorenbest)[ix]\n",
        "    test_loss, test_acc = model.evaluate(test_images,test_labels, verbose=0)\n",
        "    print('%15.3f ' % test_acc , end = '')\n",
        "    # get this trail's hyperparameters\n",
        "    vals = tuner.get_best_hyperparameters(num_trials=explorenbest)[ix].values\n",
        "    for keys,values in vals.items():\n",
        "      print('%15.4g ' %(values), end = '')\n",
        "    # end this line and start the trail\n",
        "    print()"
      ]
    },
    {
      "cell_type": "markdown",
      "metadata": {
        "id": "FRG79o5edPAi"
      },
      "source": [
        "Notice that the model with the best validation accuracy not necessarily gives the best test accuracy! But we have to live with this as this is the best we can do with the data set aside for training and validation."
      ]
    },
    {
      "cell_type": "markdown",
      "metadata": {
        "id": "Ix2PgTMaNPaT"
      },
      "source": [
        "# With our found hyperparameters, continue training\n",
        "(We do this especially as we only done 6 epochs during search.)"
      ]
    },
    {
      "cell_type": "code",
      "execution_count": null,
      "metadata": {
        "id": "74oCuObpNkPe",
        "colab": {
          "base_uri": "https://localhost:8080/"
        },
        "outputId": "92b0c744-58f6-4244-dfcc-2e9daa426658"
      },
      "outputs": [
        {
          "output_type": "stream",
          "name": "stdout",
          "text": [
            "Epoch 1/30\n",
            "\u001b[1m1500/1500\u001b[0m \u001b[32m━━━━━━━━━━━━━━━━━━━━\u001b[0m\u001b[37m\u001b[0m \u001b[1m12s\u001b[0m 6ms/step - accuracy: 0.9559 - loss: 0.1518 - val_accuracy: 0.9175 - val_loss: 0.2944\n",
            "Epoch 2/30\n",
            "\u001b[1m1500/1500\u001b[0m \u001b[32m━━━━━━━━━━━━━━━━━━━━\u001b[0m\u001b[37m\u001b[0m \u001b[1m18s\u001b[0m 5ms/step - accuracy: 0.9642 - loss: 0.1282 - val_accuracy: 0.9233 - val_loss: 0.2627\n",
            "Epoch 3/30\n",
            "\u001b[1m1500/1500\u001b[0m \u001b[32m━━━━━━━━━━━━━━━━━━━━\u001b[0m\u001b[37m\u001b[0m \u001b[1m8s\u001b[0m 5ms/step - accuracy: 0.9713 - loss: 0.1074 - val_accuracy: 0.9192 - val_loss: 0.2750\n",
            "Epoch 4/30\n",
            "\u001b[1m1500/1500\u001b[0m \u001b[32m━━━━━━━━━━━━━━━━━━━━\u001b[0m\u001b[37m\u001b[0m \u001b[1m8s\u001b[0m 5ms/step - accuracy: 0.9748 - loss: 0.0985 - val_accuracy: 0.9227 - val_loss: 0.2751\n",
            "Epoch 4: early stopping\n",
            "Restoring model weights from the end of the best epoch: 2.\n"
          ]
        }
      ],
      "source": [
        "# Fine-tune the model using the best parameters found as we might not be fully trained\n",
        "model = tuner.get_best_models(num_models=1)[0]\n",
        "\n",
        "epochs = 30      ## (max) number of epoch to run\n",
        "opt_batch_size = tuner.get_best_hyperparameters()[0]['batch_size']\n",
        "\n",
        "# Set callback functions to early stop training\n",
        "callbacks = [keras.callbacks.EarlyStopping(monitor='val_loss', mode='auto', verbose=1, patience=2, restore_best_weights = True)]\n",
        "\n",
        "# Continue to train the model. (note that we are continuing from the training done during tuning)\n",
        "history = model.fit(\n",
        "  train_images, train_labels,\n",
        "  epochs=epochs,\n",
        "  batch_size=opt_batch_size,\n",
        "  verbose = 1,\n",
        "  validation_data=(val_images, val_labels),\n",
        "  # initial_epoch=noepochauto, ## how to get this number???? from... \"(root).optimizer.iter\" maybe\n",
        "  callbacks=callbacks\n",
        ")"
      ]
    },
    {
      "cell_type": "code",
      "execution_count": null,
      "metadata": {
        "id": "bAsos-f4Nye8",
        "colab": {
          "base_uri": "https://localhost:8080/"
        },
        "outputId": "3d5663c5-687f-49a2-de38-a995445af4fc"
      },
      "outputs": [
        {
          "output_type": "stream",
          "name": "stdout",
          "text": [
            "\u001b[1m313/313\u001b[0m \u001b[32m━━━━━━━━━━━━━━━━━━━━\u001b[0m\u001b[37m\u001b[0m \u001b[1m2s\u001b[0m 4ms/step - accuracy: 0.9180 - loss: 0.2823\n",
            "Test accuracy: 0.920\n"
          ]
        }
      ],
      "source": [
        "# Evaluate the model.\n",
        "test_loss, test_acc = model.evaluate(test_images,test_labels)\n",
        "print('Test accuracy: %.3f' % test_acc)"
      ]
    },
    {
      "cell_type": "code",
      "execution_count": null,
      "metadata": {
        "id": "WketomR6iVWk",
        "colab": {
          "base_uri": "https://localhost:8080/",
          "height": 591
        },
        "outputId": "9b31da9a-0c45-4fc1-8c78-8a662f20a83a"
      },
      "outputs": [
        {
          "output_type": "display_data",
          "data": {
            "text/plain": [
              "\u001b[1mModel: \"sequential\"\u001b[0m\n"
            ],
            "text/html": [
              "<pre style=\"white-space:pre;overflow-x:auto;line-height:normal;font-family:Menlo,'DejaVu Sans Mono',consolas,'Courier New',monospace\"><span style=\"font-weight: bold\">Model: \"sequential\"</span>\n",
              "</pre>\n"
            ]
          },
          "metadata": {}
        },
        {
          "output_type": "display_data",
          "data": {
            "text/plain": [
              "┏━━━━━━━━━━━━━━━━━━━━━━━━━━━━━━━━━━━━━━┳━━━━━━━━━━━━━━━━━━━━━━━━━━━━━┳━━━━━━━━━━━━━━━━━┓\n",
              "┃\u001b[1m \u001b[0m\u001b[1mLayer (type)                        \u001b[0m\u001b[1m \u001b[0m┃\u001b[1m \u001b[0m\u001b[1mOutput Shape               \u001b[0m\u001b[1m \u001b[0m┃\u001b[1m \u001b[0m\u001b[1m        Param #\u001b[0m\u001b[1m \u001b[0m┃\n",
              "┡━━━━━━━━━━━━━━━━━━━━━━━━━━━━━━━━━━━━━━╇━━━━━━━━━━━━━━━━━━━━━━━━━━━━━╇━━━━━━━━━━━━━━━━━┩\n",
              "│ conv2d (\u001b[38;5;33mConv2D\u001b[0m)                      │ (\u001b[38;5;45mNone\u001b[0m, \u001b[38;5;34m28\u001b[0m, \u001b[38;5;34m28\u001b[0m, \u001b[38;5;34m96\u001b[0m)          │             \u001b[38;5;34m960\u001b[0m │\n",
              "├──────────────────────────────────────┼─────────────────────────────┼─────────────────┤\n",
              "│ batch_normalization                  │ (\u001b[38;5;45mNone\u001b[0m, \u001b[38;5;34m28\u001b[0m, \u001b[38;5;34m28\u001b[0m, \u001b[38;5;34m96\u001b[0m)          │             \u001b[38;5;34m384\u001b[0m │\n",
              "│ (\u001b[38;5;33mBatchNormalization\u001b[0m)                 │                             │                 │\n",
              "├──────────────────────────────────────┼─────────────────────────────┼─────────────────┤\n",
              "│ max_pooling2d (\u001b[38;5;33mMaxPooling2D\u001b[0m)         │ (\u001b[38;5;45mNone\u001b[0m, \u001b[38;5;34m14\u001b[0m, \u001b[38;5;34m14\u001b[0m, \u001b[38;5;34m96\u001b[0m)          │               \u001b[38;5;34m0\u001b[0m │\n",
              "├──────────────────────────────────────┼─────────────────────────────┼─────────────────┤\n",
              "│ conv2d_1 (\u001b[38;5;33mConv2D\u001b[0m)                    │ (\u001b[38;5;45mNone\u001b[0m, \u001b[38;5;34m14\u001b[0m, \u001b[38;5;34m14\u001b[0m, \u001b[38;5;34m96\u001b[0m)          │         \u001b[38;5;34m230,496\u001b[0m │\n",
              "├──────────────────────────────────────┼─────────────────────────────┼─────────────────┤\n",
              "│ batch_normalization_1                │ (\u001b[38;5;45mNone\u001b[0m, \u001b[38;5;34m14\u001b[0m, \u001b[38;5;34m14\u001b[0m, \u001b[38;5;34m96\u001b[0m)          │             \u001b[38;5;34m384\u001b[0m │\n",
              "│ (\u001b[38;5;33mBatchNormalization\u001b[0m)                 │                             │                 │\n",
              "├──────────────────────────────────────┼─────────────────────────────┼─────────────────┤\n",
              "│ max_pooling2d_1 (\u001b[38;5;33mMaxPooling2D\u001b[0m)       │ (\u001b[38;5;45mNone\u001b[0m, \u001b[38;5;34m7\u001b[0m, \u001b[38;5;34m7\u001b[0m, \u001b[38;5;34m96\u001b[0m)            │               \u001b[38;5;34m0\u001b[0m │\n",
              "├──────────────────────────────────────┼─────────────────────────────┼─────────────────┤\n",
              "│ conv2d_2 (\u001b[38;5;33mConv2D\u001b[0m)                    │ (\u001b[38;5;45mNone\u001b[0m, \u001b[38;5;34m3\u001b[0m, \u001b[38;5;34m3\u001b[0m, \u001b[38;5;34m224\u001b[0m)           │         \u001b[38;5;34m537,824\u001b[0m │\n",
              "├──────────────────────────────────────┼─────────────────────────────┼─────────────────┤\n",
              "│ batch_normalization_2                │ (\u001b[38;5;45mNone\u001b[0m, \u001b[38;5;34m3\u001b[0m, \u001b[38;5;34m3\u001b[0m, \u001b[38;5;34m224\u001b[0m)           │             \u001b[38;5;34m896\u001b[0m │\n",
              "│ (\u001b[38;5;33mBatchNormalization\u001b[0m)                 │                             │                 │\n",
              "├──────────────────────────────────────┼─────────────────────────────┼─────────────────┤\n",
              "│ max_pooling2d_2 (\u001b[38;5;33mMaxPooling2D\u001b[0m)       │ (\u001b[38;5;45mNone\u001b[0m, \u001b[38;5;34m1\u001b[0m, \u001b[38;5;34m1\u001b[0m, \u001b[38;5;34m224\u001b[0m)           │               \u001b[38;5;34m0\u001b[0m │\n",
              "├──────────────────────────────────────┼─────────────────────────────┼─────────────────┤\n",
              "│ flatten (\u001b[38;5;33mFlatten\u001b[0m)                    │ (\u001b[38;5;45mNone\u001b[0m, \u001b[38;5;34m224\u001b[0m)                 │               \u001b[38;5;34m0\u001b[0m │\n",
              "├──────────────────────────────────────┼─────────────────────────────┼─────────────────┤\n",
              "│ dense (\u001b[38;5;33mDense\u001b[0m)                        │ (\u001b[38;5;45mNone\u001b[0m, \u001b[38;5;34m160\u001b[0m)                 │          \u001b[38;5;34m36,000\u001b[0m │\n",
              "├──────────────────────────────────────┼─────────────────────────────┼─────────────────┤\n",
              "│ dense_1 (\u001b[38;5;33mDense\u001b[0m)                      │ (\u001b[38;5;45mNone\u001b[0m, \u001b[38;5;34m10\u001b[0m)                  │           \u001b[38;5;34m1,610\u001b[0m │\n",
              "└──────────────────────────────────────┴─────────────────────────────┴─────────────────┘\n"
            ],
            "text/html": [
              "<pre style=\"white-space:pre;overflow-x:auto;line-height:normal;font-family:Menlo,'DejaVu Sans Mono',consolas,'Courier New',monospace\">┏━━━━━━━━━━━━━━━━━━━━━━━━━━━━━━━━━━━━━━┳━━━━━━━━━━━━━━━━━━━━━━━━━━━━━┳━━━━━━━━━━━━━━━━━┓\n",
              "┃<span style=\"font-weight: bold\"> Layer (type)                         </span>┃<span style=\"font-weight: bold\"> Output Shape                </span>┃<span style=\"font-weight: bold\">         Param # </span>┃\n",
              "┡━━━━━━━━━━━━━━━━━━━━━━━━━━━━━━━━━━━━━━╇━━━━━━━━━━━━━━━━━━━━━━━━━━━━━╇━━━━━━━━━━━━━━━━━┩\n",
              "│ conv2d (<span style=\"color: #0087ff; text-decoration-color: #0087ff\">Conv2D</span>)                      │ (<span style=\"color: #00d7ff; text-decoration-color: #00d7ff\">None</span>, <span style=\"color: #00af00; text-decoration-color: #00af00\">28</span>, <span style=\"color: #00af00; text-decoration-color: #00af00\">28</span>, <span style=\"color: #00af00; text-decoration-color: #00af00\">96</span>)          │             <span style=\"color: #00af00; text-decoration-color: #00af00\">960</span> │\n",
              "├──────────────────────────────────────┼─────────────────────────────┼─────────────────┤\n",
              "│ batch_normalization                  │ (<span style=\"color: #00d7ff; text-decoration-color: #00d7ff\">None</span>, <span style=\"color: #00af00; text-decoration-color: #00af00\">28</span>, <span style=\"color: #00af00; text-decoration-color: #00af00\">28</span>, <span style=\"color: #00af00; text-decoration-color: #00af00\">96</span>)          │             <span style=\"color: #00af00; text-decoration-color: #00af00\">384</span> │\n",
              "│ (<span style=\"color: #0087ff; text-decoration-color: #0087ff\">BatchNormalization</span>)                 │                             │                 │\n",
              "├──────────────────────────────────────┼─────────────────────────────┼─────────────────┤\n",
              "│ max_pooling2d (<span style=\"color: #0087ff; text-decoration-color: #0087ff\">MaxPooling2D</span>)         │ (<span style=\"color: #00d7ff; text-decoration-color: #00d7ff\">None</span>, <span style=\"color: #00af00; text-decoration-color: #00af00\">14</span>, <span style=\"color: #00af00; text-decoration-color: #00af00\">14</span>, <span style=\"color: #00af00; text-decoration-color: #00af00\">96</span>)          │               <span style=\"color: #00af00; text-decoration-color: #00af00\">0</span> │\n",
              "├──────────────────────────────────────┼─────────────────────────────┼─────────────────┤\n",
              "│ conv2d_1 (<span style=\"color: #0087ff; text-decoration-color: #0087ff\">Conv2D</span>)                    │ (<span style=\"color: #00d7ff; text-decoration-color: #00d7ff\">None</span>, <span style=\"color: #00af00; text-decoration-color: #00af00\">14</span>, <span style=\"color: #00af00; text-decoration-color: #00af00\">14</span>, <span style=\"color: #00af00; text-decoration-color: #00af00\">96</span>)          │         <span style=\"color: #00af00; text-decoration-color: #00af00\">230,496</span> │\n",
              "├──────────────────────────────────────┼─────────────────────────────┼─────────────────┤\n",
              "│ batch_normalization_1                │ (<span style=\"color: #00d7ff; text-decoration-color: #00d7ff\">None</span>, <span style=\"color: #00af00; text-decoration-color: #00af00\">14</span>, <span style=\"color: #00af00; text-decoration-color: #00af00\">14</span>, <span style=\"color: #00af00; text-decoration-color: #00af00\">96</span>)          │             <span style=\"color: #00af00; text-decoration-color: #00af00\">384</span> │\n",
              "│ (<span style=\"color: #0087ff; text-decoration-color: #0087ff\">BatchNormalization</span>)                 │                             │                 │\n",
              "├──────────────────────────────────────┼─────────────────────────────┼─────────────────┤\n",
              "│ max_pooling2d_1 (<span style=\"color: #0087ff; text-decoration-color: #0087ff\">MaxPooling2D</span>)       │ (<span style=\"color: #00d7ff; text-decoration-color: #00d7ff\">None</span>, <span style=\"color: #00af00; text-decoration-color: #00af00\">7</span>, <span style=\"color: #00af00; text-decoration-color: #00af00\">7</span>, <span style=\"color: #00af00; text-decoration-color: #00af00\">96</span>)            │               <span style=\"color: #00af00; text-decoration-color: #00af00\">0</span> │\n",
              "├──────────────────────────────────────┼─────────────────────────────┼─────────────────┤\n",
              "│ conv2d_2 (<span style=\"color: #0087ff; text-decoration-color: #0087ff\">Conv2D</span>)                    │ (<span style=\"color: #00d7ff; text-decoration-color: #00d7ff\">None</span>, <span style=\"color: #00af00; text-decoration-color: #00af00\">3</span>, <span style=\"color: #00af00; text-decoration-color: #00af00\">3</span>, <span style=\"color: #00af00; text-decoration-color: #00af00\">224</span>)           │         <span style=\"color: #00af00; text-decoration-color: #00af00\">537,824</span> │\n",
              "├──────────────────────────────────────┼─────────────────────────────┼─────────────────┤\n",
              "│ batch_normalization_2                │ (<span style=\"color: #00d7ff; text-decoration-color: #00d7ff\">None</span>, <span style=\"color: #00af00; text-decoration-color: #00af00\">3</span>, <span style=\"color: #00af00; text-decoration-color: #00af00\">3</span>, <span style=\"color: #00af00; text-decoration-color: #00af00\">224</span>)           │             <span style=\"color: #00af00; text-decoration-color: #00af00\">896</span> │\n",
              "│ (<span style=\"color: #0087ff; text-decoration-color: #0087ff\">BatchNormalization</span>)                 │                             │                 │\n",
              "├──────────────────────────────────────┼─────────────────────────────┼─────────────────┤\n",
              "│ max_pooling2d_2 (<span style=\"color: #0087ff; text-decoration-color: #0087ff\">MaxPooling2D</span>)       │ (<span style=\"color: #00d7ff; text-decoration-color: #00d7ff\">None</span>, <span style=\"color: #00af00; text-decoration-color: #00af00\">1</span>, <span style=\"color: #00af00; text-decoration-color: #00af00\">1</span>, <span style=\"color: #00af00; text-decoration-color: #00af00\">224</span>)           │               <span style=\"color: #00af00; text-decoration-color: #00af00\">0</span> │\n",
              "├──────────────────────────────────────┼─────────────────────────────┼─────────────────┤\n",
              "│ flatten (<span style=\"color: #0087ff; text-decoration-color: #0087ff\">Flatten</span>)                    │ (<span style=\"color: #00d7ff; text-decoration-color: #00d7ff\">None</span>, <span style=\"color: #00af00; text-decoration-color: #00af00\">224</span>)                 │               <span style=\"color: #00af00; text-decoration-color: #00af00\">0</span> │\n",
              "├──────────────────────────────────────┼─────────────────────────────┼─────────────────┤\n",
              "│ dense (<span style=\"color: #0087ff; text-decoration-color: #0087ff\">Dense</span>)                        │ (<span style=\"color: #00d7ff; text-decoration-color: #00d7ff\">None</span>, <span style=\"color: #00af00; text-decoration-color: #00af00\">160</span>)                 │          <span style=\"color: #00af00; text-decoration-color: #00af00\">36,000</span> │\n",
              "├──────────────────────────────────────┼─────────────────────────────┼─────────────────┤\n",
              "│ dense_1 (<span style=\"color: #0087ff; text-decoration-color: #0087ff\">Dense</span>)                      │ (<span style=\"color: #00d7ff; text-decoration-color: #00d7ff\">None</span>, <span style=\"color: #00af00; text-decoration-color: #00af00\">10</span>)                  │           <span style=\"color: #00af00; text-decoration-color: #00af00\">1,610</span> │\n",
              "└──────────────────────────────────────┴─────────────────────────────┴─────────────────┘\n",
              "</pre>\n"
            ]
          },
          "metadata": {}
        },
        {
          "output_type": "display_data",
          "data": {
            "text/plain": [
              "\u001b[1m Total params: \u001b[0m\u001b[38;5;34m2,424,000\u001b[0m (9.25 MB)\n"
            ],
            "text/html": [
              "<pre style=\"white-space:pre;overflow-x:auto;line-height:normal;font-family:Menlo,'DejaVu Sans Mono',consolas,'Courier New',monospace\"><span style=\"font-weight: bold\"> Total params: </span><span style=\"color: #00af00; text-decoration-color: #00af00\">2,424,000</span> (9.25 MB)\n",
              "</pre>\n"
            ]
          },
          "metadata": {}
        },
        {
          "output_type": "display_data",
          "data": {
            "text/plain": [
              "\u001b[1m Trainable params: \u001b[0m\u001b[38;5;34m807,722\u001b[0m (3.08 MB)\n"
            ],
            "text/html": [
              "<pre style=\"white-space:pre;overflow-x:auto;line-height:normal;font-family:Menlo,'DejaVu Sans Mono',consolas,'Courier New',monospace\"><span style=\"font-weight: bold\"> Trainable params: </span><span style=\"color: #00af00; text-decoration-color: #00af00\">807,722</span> (3.08 MB)\n",
              "</pre>\n"
            ]
          },
          "metadata": {}
        },
        {
          "output_type": "display_data",
          "data": {
            "text/plain": [
              "\u001b[1m Non-trainable params: \u001b[0m\u001b[38;5;34m832\u001b[0m (3.25 KB)\n"
            ],
            "text/html": [
              "<pre style=\"white-space:pre;overflow-x:auto;line-height:normal;font-family:Menlo,'DejaVu Sans Mono',consolas,'Courier New',monospace\"><span style=\"font-weight: bold\"> Non-trainable params: </span><span style=\"color: #00af00; text-decoration-color: #00af00\">832</span> (3.25 KB)\n",
              "</pre>\n"
            ]
          },
          "metadata": {}
        },
        {
          "output_type": "display_data",
          "data": {
            "text/plain": [
              "\u001b[1m Optimizer params: \u001b[0m\u001b[38;5;34m1,615,446\u001b[0m (6.16 MB)\n"
            ],
            "text/html": [
              "<pre style=\"white-space:pre;overflow-x:auto;line-height:normal;font-family:Menlo,'DejaVu Sans Mono',consolas,'Courier New',monospace\"><span style=\"font-weight: bold\"> Optimizer params: </span><span style=\"color: #00af00; text-decoration-color: #00af00\">1,615,446</span> (6.16 MB)\n",
              "</pre>\n"
            ]
          },
          "metadata": {}
        }
      ],
      "source": [
        "# See what we got and how many parameters are used\n",
        "model.summary()"
      ]
    },
    {
      "cell_type": "markdown",
      "metadata": {
        "id": "qQKU8ZEXQZDV"
      },
      "source": [
        "#Analysis\n",
        "Make a complete analysis of the optimized models you have obtained using Keras Tuner. Some questions you can ask yourself:\n",
        "* How do these values, using a Bayesian search, compare to the values ​​obtained in part 1 and part 2?\n",
        "Part 1 model had  fixed architectures and hyperparameters,as they are choosen manually\n",
        "Part 2 model Bayesian search improved upon these by exploring a wide range of hyperparameters systematically, finding configurations that yield better accuracy or lower loss.\n",
        "\n",
        "* What performance did you get for the different cases?\n",
        "Test Accuracy: 0.920\n",
        "Optimized Filters: (96, 96, 224) for convolutional layers.\n",
        "Optimized Dense Units: 160\n",
        "Learning Rate: 0.001\n",
        "The Bayesian search yielded superior or comparable accuracy to manually designed models by optimizing hyperparameters.\n",
        "\n",
        "* Are there parameters that lie at the end values ​​of the used search space? (in which case maybe you should rerun with extended limits?)\n",
        "Yes, some hyperparameters lie at the extreme ends of the search space, which might indicate that the search space should be extended in future tuning runs\n",
        "Search range: 96,96,224,160\n",
        "\n",
        "\n",
        "* Which hyperparameters appeared to be most significant?\n",
        "Convolutional layers, kernels, batch size, dense layers units and learning rate.\n",
        "\n",
        "* Can you see any trend among the parameters (eg the number of convolution kernels in early and late layers, etc.)?\n",
        "Filters: Moderate filter counts in the first two layers (e.g., 96 → 96), with a significant increase in the third layer (224 or 256), provide optimal feature extraction.\n",
        "Kernel Sizes: Smaller kernels (3x3) for early layers and larger kernels (5x5) for deeper layers perform best.\n",
        "Dense Layer: Around 160 units balance capacity and regularization.\n",
        "Learning Rate: A consistent learning rate of 0.001 is optimal.\n",
        "Batch Size: Smaller batch sizes (32) offer better generalization.\n",
        "\n",
        "\n",
        "* Why do you perform the same experiment several times \"EXECUTION_PER_TRIAL = 2\", i.e. why is the result not the same every time?\n",
        "Helps to achievie robustness and reliablity in results, minimizing the risk of random fluctuations. If the result is too inconsistent that means it needs more improvement that is better regulirization and optimizer.\n",
        "\n",
        "\n",
        "* Anything else that you observed?\n",
        "Acheiving reliable results needs careful balance of hyperparameters."
      ]
    },
    {
      "cell_type": "markdown",
      "metadata": {
        "id": "V67KzZlmckBw"
      },
      "source": [
        "# Details for well passed (VG)"
      ]
    },
    {
      "cell_type": "markdown",
      "metadata": {
        "id": "nDD_rMGXcsyX"
      },
      "source": [
        "Extension of Part 2: Explore the test cases that were misclassified for one of your top models, what types of garments seem to be the ones that get the most errors, if you look at these errors do you understand why the network has problems with them?"
      ]
    },
    {
      "cell_type": "code",
      "execution_count": null,
      "metadata": {
        "id": "1K5x5iL39A22",
        "colab": {
          "base_uri": "https://localhost:8080/"
        },
        "outputId": "2f6be9da-08da-4079-9f74-057e8795bd4f"
      },
      "outputs": [
        {
          "output_type": "stream",
          "name": "stdout",
          "text": [
            "\u001b[1m313/313\u001b[0m \u001b[32m━━━━━━━━━━━━━━━━━━━━\u001b[0m\u001b[37m\u001b[0m \u001b[1m2s\u001b[0m 4ms/step - accuracy: 0.9170 - loss: 0.2843\n",
            "Test accuracy: 0.9212999939918518\n"
          ]
        }
      ],
      "source": [
        "# Your code that explores the test cases that were misclassified\n",
        "best_model = tuner.get_best_models(num_models=1)[0]\n",
        "test_loss, test_acc = best_model.evaluate(test_images, test_labels)\n",
        "print(f\"Test accuracy: {test_acc}\")\n"
      ]
    },
    {
      "cell_type": "code",
      "source": [
        "#misclasified prediction\n",
        "predictions = best_model.predict(test_images)\n",
        "predicted_labels = np.argmax(predictions, axis=1)\n",
        "\n",
        "misclassified_indices = np.where(predicted_labels != test_labels)[0]\n",
        "print(f\"Number of misclassified examples: {len(misclassified_indices)}\")\n"
      ],
      "metadata": {
        "colab": {
          "base_uri": "https://localhost:8080/"
        },
        "id": "e2BxXxXXDb2F",
        "outputId": "91e30771-2a82-4711-991f-56b179301c00"
      },
      "execution_count": null,
      "outputs": [
        {
          "output_type": "stream",
          "name": "stdout",
          "text": [
            "\u001b[1m313/313\u001b[0m \u001b[32m━━━━━━━━━━━━━━━━━━━━\u001b[0m\u001b[37m\u001b[0m \u001b[1m1s\u001b[0m 3ms/step\n",
            "Number of misclassified examples: 787\n"
          ]
        }
      ]
    },
    {
      "cell_type": "code",
      "source": [
        "#analyze misclassified prediction\n",
        "misclassified_labels = test_labels[misclassified_indices]\n",
        "unique, counts = np.unique(misclassified_labels, return_counts=True)\n",
        "misclassified_distribution = dict(zip(unique, counts))\n",
        "print(f\"Misclassified label distribution: {misclassified_distribution}\")\n",
        "\n",
        "#in image\n",
        "import matplotlib.pyplot as plt\n",
        "\n",
        "plt.figure(figsize=(10, 10))\n",
        "for i, idx in enumerate(misclassified_indices[:9]):  # Show first 9 misclassified images\n",
        "    plt.subplot(3, 3, i + 1)\n",
        "    plt.imshow(test_images[idx], cmap='gray')\n",
        "    plt.title(f\"True: {test_labels[idx]}, Pred: {predicted_labels[idx]}\")\n",
        "    plt.axis('off')\n",
        "plt.show()\n"
      ],
      "metadata": {
        "colab": {
          "base_uri": "https://localhost:8080/",
          "height": 847
        },
        "id": "smmi1-QTD29t",
        "outputId": "1b3b6fea-0600-49bf-d295-e1b20826858b"
      },
      "execution_count": null,
      "outputs": [
        {
          "output_type": "stream",
          "name": "stdout",
          "text": [
            "Misclassified label distribution: {0: 155, 1: 9, 2: 106, 3: 77, 4: 115, 5: 26, 6: 232, 7: 24, 8: 12, 9: 31}\n"
          ]
        },
        {
          "output_type": "display_data",
          "data": {
            "text/plain": [
              "<Figure size 1000x1000 with 9 Axes>"
            ],
            "image/png": "[encoded data removed]"
          },
          "metadata": {}
        }
      ]
    },
    {
      "cell_type": "markdown",
      "source": [
        "Shirt, Tshirt and coat has hightest number of misclassification. This can be of various reason such as image similarities, data imbalance etc\n"
      ],
      "metadata": {
        "id": "HWLi85_VElqL"
      }
    },
    {
      "cell_type": "markdown",
      "metadata": {
        "id": "81rFfKrm9HaC"
      },
      "source": [
        "Extension of Part 3: Implement an investigation where you also vary the number of layers in your model, you can change both convolution layers and dense layers to see if an even better model can be found."
      ]
    },
    {
      "cell_type": "markdown",
      "metadata": {
        "id": "7lQPNnmYdNBR"
      },
      "source": [
        "Tip: It's probably best to use an incremental/functional definition of the model (where layers are added with \"model.add(...)\") because then it's easier to do a for loop around the code that adds a certain number layer. Cf https://keras.io/guides/sequential_model/\n",
        "\n",
        "\n",
        "```\n",
        "    filter1=hp.Int('conv_pre_filter', min_value=32, max_value=160, step=32, default=64)\n",
        "    kernel1=hp.Choice('conv_pre_kernel', values = [3,5], default=3)\n",
        "    model = Sequential()\n",
        "    # Add a first convolution layer (with input size)\n",
        "    model.add(Conv2D(filters=filter1, kernel_size=kernel1, padding='same', activation='relu', input_shape=train_images[0].shape))\n",
        "    # More fixed layers?\n",
        "    model.add(....more layer definitions....)\n",
        "    # Add a varying number of layers\n",
        "    no_layers = hp.Int('num_layers', 0, 3)\n",
        "    for i in range(no_layers):\n",
        "          model.add(Conv2D(filters=hp.Int(f'conv_{i+1}_units', ...parameters...),\n",
        "                          kernel_size=hp.Choice(f'conv_{i+1}_kernel', ...parameters....),\n",
        "                          activation='relu'\n",
        "                          )\n",
        "                    )\n",
        "\n",
        "```\n",
        "\n"
      ]
    },
    {
      "cell_type": "code",
      "execution_count": null,
      "metadata": {
        "id": "JR43zXtw9VSx"
      },
      "outputs": [],
      "source": [
        "# Your code for a keras tuner model that has the number of layers as a hyperparameter\n",
        "# and where you search for optimized hyperparameters for this model.\n",
        "\n"
      ]
    }
  ],
  "metadata": {
    "accelerator": "GPU",
    "colab": {
      "provenance": [],
      "include_colab_link": true
    },
    "kernelspec": {
      "display_name": "Python 3",
      "name": "python3"
    }
  },
  "nbformat": 4,
  "nbformat_minor": 0
}